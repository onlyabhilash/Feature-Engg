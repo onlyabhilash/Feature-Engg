{
 "cells": [
  {
   "cell_type": "code",
   "execution_count": 48,
   "id": "therapeutic-mobility",
   "metadata": {},
   "outputs": [],
   "source": [
    "import pandas as pd\n",
    "import numpy as np"
   ]
  },
  {
   "cell_type": "code",
   "execution_count": 49,
   "id": "confirmed-shakespeare",
   "metadata": {},
   "outputs": [
    {
     "data": {
      "text/plain": [
       "DatetimeIndex(['2000-01-01', '2000-01-02', '2000-01-03', '2000-01-04',\n",
       "               '2000-01-05', '2000-01-06', '2000-01-07', '2000-01-08'],\n",
       "              dtype='datetime64[ns]', freq='D')"
      ]
     },
     "execution_count": 49,
     "metadata": {},
     "output_type": "execute_result"
    }
   ],
   "source": [
    "dates = pd.date_range('1/1/2000', periods=8)\n",
    "dates"
   ]
  },
  {
   "cell_type": "code",
   "execution_count": 50,
   "id": "molecular-emerald",
   "metadata": {},
   "outputs": [
    {
     "data": {
      "text/html": [
       "<div>\n",
       "<style scoped>\n",
       "    .dataframe tbody tr th:only-of-type {\n",
       "        vertical-align: middle;\n",
       "    }\n",
       "\n",
       "    .dataframe tbody tr th {\n",
       "        vertical-align: top;\n",
       "    }\n",
       "\n",
       "    .dataframe thead th {\n",
       "        text-align: right;\n",
       "    }\n",
       "</style>\n",
       "<table border=\"1\" class=\"dataframe\">\n",
       "  <thead>\n",
       "    <tr style=\"text-align: right;\">\n",
       "      <th></th>\n",
       "      <th>A</th>\n",
       "      <th>B</th>\n",
       "      <th>C</th>\n",
       "      <th>D</th>\n",
       "    </tr>\n",
       "  </thead>\n",
       "  <tbody>\n",
       "    <tr>\n",
       "      <th>2000-01-01</th>\n",
       "      <td>-1.263342</td>\n",
       "      <td>0.666581</td>\n",
       "      <td>0.484328</td>\n",
       "      <td>-0.631289</td>\n",
       "    </tr>\n",
       "    <tr>\n",
       "      <th>2000-01-02</th>\n",
       "      <td>-0.210266</td>\n",
       "      <td>0.669452</td>\n",
       "      <td>0.496605</td>\n",
       "      <td>0.284778</td>\n",
       "    </tr>\n",
       "    <tr>\n",
       "      <th>2000-01-03</th>\n",
       "      <td>0.274610</td>\n",
       "      <td>-0.428816</td>\n",
       "      <td>-0.294351</td>\n",
       "      <td>0.955873</td>\n",
       "    </tr>\n",
       "    <tr>\n",
       "      <th>2000-01-04</th>\n",
       "      <td>-0.911566</td>\n",
       "      <td>1.020426</td>\n",
       "      <td>-2.228317</td>\n",
       "      <td>0.078700</td>\n",
       "    </tr>\n",
       "    <tr>\n",
       "      <th>2000-01-05</th>\n",
       "      <td>0.177414</td>\n",
       "      <td>-0.134870</td>\n",
       "      <td>-1.728240</td>\n",
       "      <td>0.551976</td>\n",
       "    </tr>\n",
       "    <tr>\n",
       "      <th>2000-01-06</th>\n",
       "      <td>0.035705</td>\n",
       "      <td>-0.560241</td>\n",
       "      <td>0.526400</td>\n",
       "      <td>-0.642750</td>\n",
       "    </tr>\n",
       "    <tr>\n",
       "      <th>2000-01-07</th>\n",
       "      <td>-1.600893</td>\n",
       "      <td>1.655818</td>\n",
       "      <td>-0.480091</td>\n",
       "      <td>-0.374639</td>\n",
       "    </tr>\n",
       "    <tr>\n",
       "      <th>2000-01-08</th>\n",
       "      <td>-0.498317</td>\n",
       "      <td>-0.543711</td>\n",
       "      <td>-0.279709</td>\n",
       "      <td>0.931254</td>\n",
       "    </tr>\n",
       "  </tbody>\n",
       "</table>\n",
       "</div>"
      ],
      "text/plain": [
       "                   A         B         C         D\n",
       "2000-01-01 -1.263342  0.666581  0.484328 -0.631289\n",
       "2000-01-02 -0.210266  0.669452  0.496605  0.284778\n",
       "2000-01-03  0.274610 -0.428816 -0.294351  0.955873\n",
       "2000-01-04 -0.911566  1.020426 -2.228317  0.078700\n",
       "2000-01-05  0.177414 -0.134870 -1.728240  0.551976\n",
       "2000-01-06  0.035705 -0.560241  0.526400 -0.642750\n",
       "2000-01-07 -1.600893  1.655818 -0.480091 -0.374639\n",
       "2000-01-08 -0.498317 -0.543711 -0.279709  0.931254"
      ]
     },
     "execution_count": 50,
     "metadata": {},
     "output_type": "execute_result"
    }
   ],
   "source": [
    "df = pd.DataFrame(np.random.randn(8, 4),\n",
    "   ...:                   index=dates, columns=['A', 'B', 'C', 'D'])\n",
    "df"
   ]
  },
  {
   "cell_type": "code",
   "execution_count": 51,
   "id": "impressed-craps",
   "metadata": {},
   "outputs": [],
   "source": [
    "s = df['A']"
   ]
  },
  {
   "cell_type": "code",
   "execution_count": 52,
   "id": "accredited-premium",
   "metadata": {},
   "outputs": [
    {
     "data": {
      "text/plain": [
       "0.03570532497066032"
      ]
     },
     "execution_count": 52,
     "metadata": {},
     "output_type": "execute_result"
    }
   ],
   "source": [
    "s[dates[5]]"
   ]
  },
  {
   "cell_type": "code",
   "execution_count": 53,
   "id": "light-kingston",
   "metadata": {},
   "outputs": [
    {
     "data": {
      "text/html": [
       "<div>\n",
       "<style scoped>\n",
       "    .dataframe tbody tr th:only-of-type {\n",
       "        vertical-align: middle;\n",
       "    }\n",
       "\n",
       "    .dataframe tbody tr th {\n",
       "        vertical-align: top;\n",
       "    }\n",
       "\n",
       "    .dataframe thead th {\n",
       "        text-align: right;\n",
       "    }\n",
       "</style>\n",
       "<table border=\"1\" class=\"dataframe\">\n",
       "  <thead>\n",
       "    <tr style=\"text-align: right;\">\n",
       "      <th></th>\n",
       "      <th>A</th>\n",
       "      <th>B</th>\n",
       "      <th>C</th>\n",
       "      <th>D</th>\n",
       "    </tr>\n",
       "  </thead>\n",
       "  <tbody>\n",
       "    <tr>\n",
       "      <th>2000-01-01</th>\n",
       "      <td>0.666581</td>\n",
       "      <td>-1.263342</td>\n",
       "      <td>0.484328</td>\n",
       "      <td>-0.631289</td>\n",
       "    </tr>\n",
       "    <tr>\n",
       "      <th>2000-01-02</th>\n",
       "      <td>0.669452</td>\n",
       "      <td>-0.210266</td>\n",
       "      <td>0.496605</td>\n",
       "      <td>0.284778</td>\n",
       "    </tr>\n",
       "    <tr>\n",
       "      <th>2000-01-03</th>\n",
       "      <td>-0.428816</td>\n",
       "      <td>0.274610</td>\n",
       "      <td>-0.294351</td>\n",
       "      <td>0.955873</td>\n",
       "    </tr>\n",
       "    <tr>\n",
       "      <th>2000-01-04</th>\n",
       "      <td>1.020426</td>\n",
       "      <td>-0.911566</td>\n",
       "      <td>-2.228317</td>\n",
       "      <td>0.078700</td>\n",
       "    </tr>\n",
       "    <tr>\n",
       "      <th>2000-01-05</th>\n",
       "      <td>-0.134870</td>\n",
       "      <td>0.177414</td>\n",
       "      <td>-1.728240</td>\n",
       "      <td>0.551976</td>\n",
       "    </tr>\n",
       "    <tr>\n",
       "      <th>2000-01-06</th>\n",
       "      <td>-0.560241</td>\n",
       "      <td>0.035705</td>\n",
       "      <td>0.526400</td>\n",
       "      <td>-0.642750</td>\n",
       "    </tr>\n",
       "    <tr>\n",
       "      <th>2000-01-07</th>\n",
       "      <td>1.655818</td>\n",
       "      <td>-1.600893</td>\n",
       "      <td>-0.480091</td>\n",
       "      <td>-0.374639</td>\n",
       "    </tr>\n",
       "    <tr>\n",
       "      <th>2000-01-08</th>\n",
       "      <td>-0.543711</td>\n",
       "      <td>-0.498317</td>\n",
       "      <td>-0.279709</td>\n",
       "      <td>0.931254</td>\n",
       "    </tr>\n",
       "  </tbody>\n",
       "</table>\n",
       "</div>"
      ],
      "text/plain": [
       "                   A         B         C         D\n",
       "2000-01-01  0.666581 -1.263342  0.484328 -0.631289\n",
       "2000-01-02  0.669452 -0.210266  0.496605  0.284778\n",
       "2000-01-03 -0.428816  0.274610 -0.294351  0.955873\n",
       "2000-01-04  1.020426 -0.911566 -2.228317  0.078700\n",
       "2000-01-05 -0.134870  0.177414 -1.728240  0.551976\n",
       "2000-01-06 -0.560241  0.035705  0.526400 -0.642750\n",
       "2000-01-07  1.655818 -1.600893 -0.480091 -0.374639\n",
       "2000-01-08 -0.543711 -0.498317 -0.279709  0.931254"
      ]
     },
     "execution_count": 53,
     "metadata": {},
     "output_type": "execute_result"
    }
   ],
   "source": [
    "df[['B', 'A']] = df[['A', 'B']]\n",
    "df"
   ]
  },
  {
   "cell_type": "code",
   "execution_count": 54,
   "id": "weighted-outreach",
   "metadata": {},
   "outputs": [
    {
     "data": {
      "text/html": [
       "<div>\n",
       "<style scoped>\n",
       "    .dataframe tbody tr th:only-of-type {\n",
       "        vertical-align: middle;\n",
       "    }\n",
       "\n",
       "    .dataframe tbody tr th {\n",
       "        vertical-align: top;\n",
       "    }\n",
       "\n",
       "    .dataframe thead th {\n",
       "        text-align: right;\n",
       "    }\n",
       "</style>\n",
       "<table border=\"1\" class=\"dataframe\">\n",
       "  <thead>\n",
       "    <tr style=\"text-align: right;\">\n",
       "      <th></th>\n",
       "      <th>A</th>\n",
       "      <th>B</th>\n",
       "    </tr>\n",
       "  </thead>\n",
       "  <tbody>\n",
       "    <tr>\n",
       "      <th>2000-01-01</th>\n",
       "      <td>0.666581</td>\n",
       "      <td>-1.263342</td>\n",
       "    </tr>\n",
       "    <tr>\n",
       "      <th>2000-01-02</th>\n",
       "      <td>0.669452</td>\n",
       "      <td>-0.210266</td>\n",
       "    </tr>\n",
       "    <tr>\n",
       "      <th>2000-01-03</th>\n",
       "      <td>-0.428816</td>\n",
       "      <td>0.274610</td>\n",
       "    </tr>\n",
       "    <tr>\n",
       "      <th>2000-01-04</th>\n",
       "      <td>1.020426</td>\n",
       "      <td>-0.911566</td>\n",
       "    </tr>\n",
       "    <tr>\n",
       "      <th>2000-01-05</th>\n",
       "      <td>-0.134870</td>\n",
       "      <td>0.177414</td>\n",
       "    </tr>\n",
       "    <tr>\n",
       "      <th>2000-01-06</th>\n",
       "      <td>-0.560241</td>\n",
       "      <td>0.035705</td>\n",
       "    </tr>\n",
       "    <tr>\n",
       "      <th>2000-01-07</th>\n",
       "      <td>1.655818</td>\n",
       "      <td>-1.600893</td>\n",
       "    </tr>\n",
       "    <tr>\n",
       "      <th>2000-01-08</th>\n",
       "      <td>-0.543711</td>\n",
       "      <td>-0.498317</td>\n",
       "    </tr>\n",
       "  </tbody>\n",
       "</table>\n",
       "</div>"
      ],
      "text/plain": [
       "                   A         B\n",
       "2000-01-01  0.666581 -1.263342\n",
       "2000-01-02  0.669452 -0.210266\n",
       "2000-01-03 -0.428816  0.274610\n",
       "2000-01-04  1.020426 -0.911566\n",
       "2000-01-05 -0.134870  0.177414\n",
       "2000-01-06 -0.560241  0.035705\n",
       "2000-01-07  1.655818 -1.600893\n",
       "2000-01-08 -0.543711 -0.498317"
      ]
     },
     "execution_count": 54,
     "metadata": {},
     "output_type": "execute_result"
    }
   ],
   "source": [
    "df[['A', 'B']]"
   ]
  },
  {
   "cell_type": "code",
   "execution_count": 55,
   "id": "turkish-silence",
   "metadata": {},
   "outputs": [],
   "source": [
    "df.loc[:, ['B', 'A']] = df[['A', 'B']]"
   ]
  },
  {
   "cell_type": "code",
   "execution_count": 56,
   "id": "lightweight-separate",
   "metadata": {},
   "outputs": [
    {
     "data": {
      "text/html": [
       "<div>\n",
       "<style scoped>\n",
       "    .dataframe tbody tr th:only-of-type {\n",
       "        vertical-align: middle;\n",
       "    }\n",
       "\n",
       "    .dataframe tbody tr th {\n",
       "        vertical-align: top;\n",
       "    }\n",
       "\n",
       "    .dataframe thead th {\n",
       "        text-align: right;\n",
       "    }\n",
       "</style>\n",
       "<table border=\"1\" class=\"dataframe\">\n",
       "  <thead>\n",
       "    <tr style=\"text-align: right;\">\n",
       "      <th></th>\n",
       "      <th>A</th>\n",
       "      <th>B</th>\n",
       "    </tr>\n",
       "  </thead>\n",
       "  <tbody>\n",
       "    <tr>\n",
       "      <th>2000-01-01</th>\n",
       "      <td>0.666581</td>\n",
       "      <td>-1.263342</td>\n",
       "    </tr>\n",
       "    <tr>\n",
       "      <th>2000-01-02</th>\n",
       "      <td>0.669452</td>\n",
       "      <td>-0.210266</td>\n",
       "    </tr>\n",
       "    <tr>\n",
       "      <th>2000-01-03</th>\n",
       "      <td>-0.428816</td>\n",
       "      <td>0.274610</td>\n",
       "    </tr>\n",
       "    <tr>\n",
       "      <th>2000-01-04</th>\n",
       "      <td>1.020426</td>\n",
       "      <td>-0.911566</td>\n",
       "    </tr>\n",
       "    <tr>\n",
       "      <th>2000-01-05</th>\n",
       "      <td>-0.134870</td>\n",
       "      <td>0.177414</td>\n",
       "    </tr>\n",
       "    <tr>\n",
       "      <th>2000-01-06</th>\n",
       "      <td>-0.560241</td>\n",
       "      <td>0.035705</td>\n",
       "    </tr>\n",
       "    <tr>\n",
       "      <th>2000-01-07</th>\n",
       "      <td>1.655818</td>\n",
       "      <td>-1.600893</td>\n",
       "    </tr>\n",
       "    <tr>\n",
       "      <th>2000-01-08</th>\n",
       "      <td>-0.543711</td>\n",
       "      <td>-0.498317</td>\n",
       "    </tr>\n",
       "  </tbody>\n",
       "</table>\n",
       "</div>"
      ],
      "text/plain": [
       "                   A         B\n",
       "2000-01-01  0.666581 -1.263342\n",
       "2000-01-02  0.669452 -0.210266\n",
       "2000-01-03 -0.428816  0.274610\n",
       "2000-01-04  1.020426 -0.911566\n",
       "2000-01-05 -0.134870  0.177414\n",
       "2000-01-06 -0.560241  0.035705\n",
       "2000-01-07  1.655818 -1.600893\n",
       "2000-01-08 -0.543711 -0.498317"
      ]
     },
     "execution_count": 56,
     "metadata": {},
     "output_type": "execute_result"
    }
   ],
   "source": [
    "df[['A', 'B']]"
   ]
  },
  {
   "cell_type": "code",
   "execution_count": 57,
   "id": "institutional-listening",
   "metadata": {},
   "outputs": [],
   "source": [
    "df.loc[:, ['B', 'A']] = df[['A', 'B']].to_numpy()"
   ]
  },
  {
   "cell_type": "code",
   "execution_count": 58,
   "id": "administrative-sunset",
   "metadata": {},
   "outputs": [
    {
     "data": {
      "text/html": [
       "<div>\n",
       "<style scoped>\n",
       "    .dataframe tbody tr th:only-of-type {\n",
       "        vertical-align: middle;\n",
       "    }\n",
       "\n",
       "    .dataframe tbody tr th {\n",
       "        vertical-align: top;\n",
       "    }\n",
       "\n",
       "    .dataframe thead th {\n",
       "        text-align: right;\n",
       "    }\n",
       "</style>\n",
       "<table border=\"1\" class=\"dataframe\">\n",
       "  <thead>\n",
       "    <tr style=\"text-align: right;\">\n",
       "      <th></th>\n",
       "      <th>A</th>\n",
       "      <th>B</th>\n",
       "    </tr>\n",
       "  </thead>\n",
       "  <tbody>\n",
       "    <tr>\n",
       "      <th>2000-01-01</th>\n",
       "      <td>-1.263342</td>\n",
       "      <td>0.666581</td>\n",
       "    </tr>\n",
       "    <tr>\n",
       "      <th>2000-01-02</th>\n",
       "      <td>-0.210266</td>\n",
       "      <td>0.669452</td>\n",
       "    </tr>\n",
       "    <tr>\n",
       "      <th>2000-01-03</th>\n",
       "      <td>0.274610</td>\n",
       "      <td>-0.428816</td>\n",
       "    </tr>\n",
       "    <tr>\n",
       "      <th>2000-01-04</th>\n",
       "      <td>-0.911566</td>\n",
       "      <td>1.020426</td>\n",
       "    </tr>\n",
       "    <tr>\n",
       "      <th>2000-01-05</th>\n",
       "      <td>0.177414</td>\n",
       "      <td>-0.134870</td>\n",
       "    </tr>\n",
       "    <tr>\n",
       "      <th>2000-01-06</th>\n",
       "      <td>0.035705</td>\n",
       "      <td>-0.560241</td>\n",
       "    </tr>\n",
       "    <tr>\n",
       "      <th>2000-01-07</th>\n",
       "      <td>-1.600893</td>\n",
       "      <td>1.655818</td>\n",
       "    </tr>\n",
       "    <tr>\n",
       "      <th>2000-01-08</th>\n",
       "      <td>-0.498317</td>\n",
       "      <td>-0.543711</td>\n",
       "    </tr>\n",
       "  </tbody>\n",
       "</table>\n",
       "</div>"
      ],
      "text/plain": [
       "                   A         B\n",
       "2000-01-01 -1.263342  0.666581\n",
       "2000-01-02 -0.210266  0.669452\n",
       "2000-01-03  0.274610 -0.428816\n",
       "2000-01-04 -0.911566  1.020426\n",
       "2000-01-05  0.177414 -0.134870\n",
       "2000-01-06  0.035705 -0.560241\n",
       "2000-01-07 -1.600893  1.655818\n",
       "2000-01-08 -0.498317 -0.543711"
      ]
     },
     "execution_count": 58,
     "metadata": {},
     "output_type": "execute_result"
    }
   ],
   "source": [
    "df[['A', 'B']]"
   ]
  },
  {
   "cell_type": "markdown",
   "id": "charitable-pavilion",
   "metadata": {},
   "source": [
    "### Attribute access"
   ]
  },
  {
   "cell_type": "code",
   "execution_count": 59,
   "id": "toxic-deadline",
   "metadata": {},
   "outputs": [
    {
     "data": {
      "text/plain": [
       "a    1\n",
       "b    2\n",
       "c    3\n",
       "dtype: int64"
      ]
     },
     "execution_count": 59,
     "metadata": {},
     "output_type": "execute_result"
    }
   ],
   "source": [
    "sa = pd.Series([1, 2, 3], index=list('abc'))\n",
    "sa"
   ]
  },
  {
   "cell_type": "code",
   "execution_count": 60,
   "id": "assisted-grace",
   "metadata": {},
   "outputs": [
    {
     "data": {
      "text/html": [
       "<div>\n",
       "<style scoped>\n",
       "    .dataframe tbody tr th:only-of-type {\n",
       "        vertical-align: middle;\n",
       "    }\n",
       "\n",
       "    .dataframe tbody tr th {\n",
       "        vertical-align: top;\n",
       "    }\n",
       "\n",
       "    .dataframe thead th {\n",
       "        text-align: right;\n",
       "    }\n",
       "</style>\n",
       "<table border=\"1\" class=\"dataframe\">\n",
       "  <thead>\n",
       "    <tr style=\"text-align: right;\">\n",
       "      <th></th>\n",
       "      <th>A</th>\n",
       "      <th>B</th>\n",
       "      <th>C</th>\n",
       "      <th>D</th>\n",
       "    </tr>\n",
       "  </thead>\n",
       "  <tbody>\n",
       "    <tr>\n",
       "      <th>2000-01-01</th>\n",
       "      <td>-1.263342</td>\n",
       "      <td>0.666581</td>\n",
       "      <td>0.484328</td>\n",
       "      <td>-0.631289</td>\n",
       "    </tr>\n",
       "    <tr>\n",
       "      <th>2000-01-02</th>\n",
       "      <td>-0.210266</td>\n",
       "      <td>0.669452</td>\n",
       "      <td>0.496605</td>\n",
       "      <td>0.284778</td>\n",
       "    </tr>\n",
       "    <tr>\n",
       "      <th>2000-01-03</th>\n",
       "      <td>0.274610</td>\n",
       "      <td>-0.428816</td>\n",
       "      <td>-0.294351</td>\n",
       "      <td>0.955873</td>\n",
       "    </tr>\n",
       "    <tr>\n",
       "      <th>2000-01-04</th>\n",
       "      <td>-0.911566</td>\n",
       "      <td>1.020426</td>\n",
       "      <td>-2.228317</td>\n",
       "      <td>0.078700</td>\n",
       "    </tr>\n",
       "    <tr>\n",
       "      <th>2000-01-05</th>\n",
       "      <td>0.177414</td>\n",
       "      <td>-0.134870</td>\n",
       "      <td>-1.728240</td>\n",
       "      <td>0.551976</td>\n",
       "    </tr>\n",
       "    <tr>\n",
       "      <th>2000-01-06</th>\n",
       "      <td>0.035705</td>\n",
       "      <td>-0.560241</td>\n",
       "      <td>0.526400</td>\n",
       "      <td>-0.642750</td>\n",
       "    </tr>\n",
       "    <tr>\n",
       "      <th>2000-01-07</th>\n",
       "      <td>-1.600893</td>\n",
       "      <td>1.655818</td>\n",
       "      <td>-0.480091</td>\n",
       "      <td>-0.374639</td>\n",
       "    </tr>\n",
       "    <tr>\n",
       "      <th>2000-01-08</th>\n",
       "      <td>-0.498317</td>\n",
       "      <td>-0.543711</td>\n",
       "      <td>-0.279709</td>\n",
       "      <td>0.931254</td>\n",
       "    </tr>\n",
       "  </tbody>\n",
       "</table>\n",
       "</div>"
      ],
      "text/plain": [
       "                   A         B         C         D\n",
       "2000-01-01 -1.263342  0.666581  0.484328 -0.631289\n",
       "2000-01-02 -0.210266  0.669452  0.496605  0.284778\n",
       "2000-01-03  0.274610 -0.428816 -0.294351  0.955873\n",
       "2000-01-04 -0.911566  1.020426 -2.228317  0.078700\n",
       "2000-01-05  0.177414 -0.134870 -1.728240  0.551976\n",
       "2000-01-06  0.035705 -0.560241  0.526400 -0.642750\n",
       "2000-01-07 -1.600893  1.655818 -0.480091 -0.374639\n",
       "2000-01-08 -0.498317 -0.543711 -0.279709  0.931254"
      ]
     },
     "execution_count": 60,
     "metadata": {},
     "output_type": "execute_result"
    }
   ],
   "source": [
    "dfa = df.copy()\n",
    "dfa"
   ]
  },
  {
   "cell_type": "code",
   "execution_count": 61,
   "id": "numerical-cable",
   "metadata": {},
   "outputs": [
    {
     "data": {
      "text/plain": [
       "2"
      ]
     },
     "execution_count": 61,
     "metadata": {},
     "output_type": "execute_result"
    }
   ],
   "source": [
    "sa['b'] # or sa.b"
   ]
  },
  {
   "cell_type": "code",
   "execution_count": 62,
   "id": "owned-chile",
   "metadata": {},
   "outputs": [
    {
     "data": {
      "text/plain": [
       "2000-01-01   -1.263342\n",
       "2000-01-02   -0.210266\n",
       "2000-01-03    0.274610\n",
       "2000-01-04   -0.911566\n",
       "2000-01-05    0.177414\n",
       "2000-01-06    0.035705\n",
       "2000-01-07   -1.600893\n",
       "2000-01-08   -0.498317\n",
       "Freq: D, Name: A, dtype: float64"
      ]
     },
     "execution_count": 62,
     "metadata": {},
     "output_type": "execute_result"
    }
   ],
   "source": [
    "dfa.A # or dfa['A']"
   ]
  },
  {
   "cell_type": "code",
   "execution_count": 63,
   "id": "informational-memory",
   "metadata": {},
   "outputs": [
    {
     "data": {
      "text/plain": [
       "a    5\n",
       "b    2\n",
       "c    3\n",
       "dtype: int64"
      ]
     },
     "execution_count": 63,
     "metadata": {},
     "output_type": "execute_result"
    }
   ],
   "source": [
    "sa.a = 5\n",
    "sa"
   ]
  },
  {
   "cell_type": "code",
   "execution_count": 64,
   "id": "brutal-bedroom",
   "metadata": {},
   "outputs": [
    {
     "data": {
      "text/html": [
       "<div>\n",
       "<style scoped>\n",
       "    .dataframe tbody tr th:only-of-type {\n",
       "        vertical-align: middle;\n",
       "    }\n",
       "\n",
       "    .dataframe tbody tr th {\n",
       "        vertical-align: top;\n",
       "    }\n",
       "\n",
       "    .dataframe thead th {\n",
       "        text-align: right;\n",
       "    }\n",
       "</style>\n",
       "<table border=\"1\" class=\"dataframe\">\n",
       "  <thead>\n",
       "    <tr style=\"text-align: right;\">\n",
       "      <th></th>\n",
       "      <th>A</th>\n",
       "      <th>B</th>\n",
       "      <th>C</th>\n",
       "      <th>D</th>\n",
       "    </tr>\n",
       "  </thead>\n",
       "  <tbody>\n",
       "    <tr>\n",
       "      <th>2000-01-01</th>\n",
       "      <td>0</td>\n",
       "      <td>0.666581</td>\n",
       "      <td>0.484328</td>\n",
       "      <td>-0.631289</td>\n",
       "    </tr>\n",
       "    <tr>\n",
       "      <th>2000-01-02</th>\n",
       "      <td>1</td>\n",
       "      <td>0.669452</td>\n",
       "      <td>0.496605</td>\n",
       "      <td>0.284778</td>\n",
       "    </tr>\n",
       "    <tr>\n",
       "      <th>2000-01-03</th>\n",
       "      <td>2</td>\n",
       "      <td>-0.428816</td>\n",
       "      <td>-0.294351</td>\n",
       "      <td>0.955873</td>\n",
       "    </tr>\n",
       "    <tr>\n",
       "      <th>2000-01-04</th>\n",
       "      <td>3</td>\n",
       "      <td>1.020426</td>\n",
       "      <td>-2.228317</td>\n",
       "      <td>0.078700</td>\n",
       "    </tr>\n",
       "    <tr>\n",
       "      <th>2000-01-05</th>\n",
       "      <td>4</td>\n",
       "      <td>-0.134870</td>\n",
       "      <td>-1.728240</td>\n",
       "      <td>0.551976</td>\n",
       "    </tr>\n",
       "    <tr>\n",
       "      <th>2000-01-06</th>\n",
       "      <td>5</td>\n",
       "      <td>-0.560241</td>\n",
       "      <td>0.526400</td>\n",
       "      <td>-0.642750</td>\n",
       "    </tr>\n",
       "    <tr>\n",
       "      <th>2000-01-07</th>\n",
       "      <td>6</td>\n",
       "      <td>1.655818</td>\n",
       "      <td>-0.480091</td>\n",
       "      <td>-0.374639</td>\n",
       "    </tr>\n",
       "    <tr>\n",
       "      <th>2000-01-08</th>\n",
       "      <td>7</td>\n",
       "      <td>-0.543711</td>\n",
       "      <td>-0.279709</td>\n",
       "      <td>0.931254</td>\n",
       "    </tr>\n",
       "  </tbody>\n",
       "</table>\n",
       "</div>"
      ],
      "text/plain": [
       "            A         B         C         D\n",
       "2000-01-01  0  0.666581  0.484328 -0.631289\n",
       "2000-01-02  1  0.669452  0.496605  0.284778\n",
       "2000-01-03  2 -0.428816 -0.294351  0.955873\n",
       "2000-01-04  3  1.020426 -2.228317  0.078700\n",
       "2000-01-05  4 -0.134870 -1.728240  0.551976\n",
       "2000-01-06  5 -0.560241  0.526400 -0.642750\n",
       "2000-01-07  6  1.655818 -0.480091 -0.374639\n",
       "2000-01-08  7 -0.543711 -0.279709  0.931254"
      ]
     },
     "execution_count": 64,
     "metadata": {},
     "output_type": "execute_result"
    }
   ],
   "source": [
    "dfa.A = list(range(len(dfa.index)))\n",
    "dfa"
   ]
  },
  {
   "cell_type": "code",
   "execution_count": 65,
   "id": "fluid-explosion",
   "metadata": {},
   "outputs": [
    {
     "data": {
      "text/html": [
       "<div>\n",
       "<style scoped>\n",
       "    .dataframe tbody tr th:only-of-type {\n",
       "        vertical-align: middle;\n",
       "    }\n",
       "\n",
       "    .dataframe tbody tr th {\n",
       "        vertical-align: top;\n",
       "    }\n",
       "\n",
       "    .dataframe thead th {\n",
       "        text-align: right;\n",
       "    }\n",
       "</style>\n",
       "<table border=\"1\" class=\"dataframe\">\n",
       "  <thead>\n",
       "    <tr style=\"text-align: right;\">\n",
       "      <th></th>\n",
       "      <th>A</th>\n",
       "      <th>B</th>\n",
       "      <th>C</th>\n",
       "      <th>D</th>\n",
       "    </tr>\n",
       "  </thead>\n",
       "  <tbody>\n",
       "    <tr>\n",
       "      <th>2000-01-01</th>\n",
       "      <td>0</td>\n",
       "      <td>0.666581</td>\n",
       "      <td>0.484328</td>\n",
       "      <td>-0.631289</td>\n",
       "    </tr>\n",
       "    <tr>\n",
       "      <th>2000-01-02</th>\n",
       "      <td>1</td>\n",
       "      <td>0.669452</td>\n",
       "      <td>0.496605</td>\n",
       "      <td>0.284778</td>\n",
       "    </tr>\n",
       "    <tr>\n",
       "      <th>2000-01-03</th>\n",
       "      <td>2</td>\n",
       "      <td>-0.428816</td>\n",
       "      <td>-0.294351</td>\n",
       "      <td>0.955873</td>\n",
       "    </tr>\n",
       "    <tr>\n",
       "      <th>2000-01-04</th>\n",
       "      <td>3</td>\n",
       "      <td>1.020426</td>\n",
       "      <td>-2.228317</td>\n",
       "      <td>0.078700</td>\n",
       "    </tr>\n",
       "    <tr>\n",
       "      <th>2000-01-05</th>\n",
       "      <td>4</td>\n",
       "      <td>-0.134870</td>\n",
       "      <td>-1.728240</td>\n",
       "      <td>0.551976</td>\n",
       "    </tr>\n",
       "    <tr>\n",
       "      <th>2000-01-06</th>\n",
       "      <td>5</td>\n",
       "      <td>-0.560241</td>\n",
       "      <td>0.526400</td>\n",
       "      <td>-0.642750</td>\n",
       "    </tr>\n",
       "    <tr>\n",
       "      <th>2000-01-07</th>\n",
       "      <td>6</td>\n",
       "      <td>1.655818</td>\n",
       "      <td>-0.480091</td>\n",
       "      <td>-0.374639</td>\n",
       "    </tr>\n",
       "    <tr>\n",
       "      <th>2000-01-08</th>\n",
       "      <td>7</td>\n",
       "      <td>-0.543711</td>\n",
       "      <td>-0.279709</td>\n",
       "      <td>0.931254</td>\n",
       "    </tr>\n",
       "  </tbody>\n",
       "</table>\n",
       "</div>"
      ],
      "text/plain": [
       "            A         B         C         D\n",
       "2000-01-01  0  0.666581  0.484328 -0.631289\n",
       "2000-01-02  1  0.669452  0.496605  0.284778\n",
       "2000-01-03  2 -0.428816 -0.294351  0.955873\n",
       "2000-01-04  3  1.020426 -2.228317  0.078700\n",
       "2000-01-05  4 -0.134870 -1.728240  0.551976\n",
       "2000-01-06  5 -0.560241  0.526400 -0.642750\n",
       "2000-01-07  6  1.655818 -0.480091 -0.374639\n",
       "2000-01-08  7 -0.543711 -0.279709  0.931254"
      ]
     },
     "execution_count": 65,
     "metadata": {},
     "output_type": "execute_result"
    }
   ],
   "source": [
    "dfa['A'] = list(range(len(dfa.index))) # Creating a new column A\n",
    "dfa"
   ]
  },
  {
   "cell_type": "code",
   "execution_count": 66,
   "id": "comfortable-bulgarian",
   "metadata": {},
   "outputs": [
    {
     "data": {
      "text/html": [
       "<div>\n",
       "<style scoped>\n",
       "    .dataframe tbody tr th:only-of-type {\n",
       "        vertical-align: middle;\n",
       "    }\n",
       "\n",
       "    .dataframe tbody tr th {\n",
       "        vertical-align: top;\n",
       "    }\n",
       "\n",
       "    .dataframe thead th {\n",
       "        text-align: right;\n",
       "    }\n",
       "</style>\n",
       "<table border=\"1\" class=\"dataframe\">\n",
       "  <thead>\n",
       "    <tr style=\"text-align: right;\">\n",
       "      <th></th>\n",
       "      <th>x</th>\n",
       "      <th>y</th>\n",
       "    </tr>\n",
       "  </thead>\n",
       "  <tbody>\n",
       "    <tr>\n",
       "      <th>0</th>\n",
       "      <td>1</td>\n",
       "      <td>3</td>\n",
       "    </tr>\n",
       "    <tr>\n",
       "      <th>1</th>\n",
       "      <td>2</td>\n",
       "      <td>4</td>\n",
       "    </tr>\n",
       "    <tr>\n",
       "      <th>2</th>\n",
       "      <td>3</td>\n",
       "      <td>5</td>\n",
       "    </tr>\n",
       "  </tbody>\n",
       "</table>\n",
       "</div>"
      ],
      "text/plain": [
       "   x  y\n",
       "0  1  3\n",
       "1  2  4\n",
       "2  3  5"
      ]
     },
     "execution_count": 66,
     "metadata": {},
     "output_type": "execute_result"
    }
   ],
   "source": [
    "x = pd.DataFrame({'x': [1, 2, 3], 'y': [3, 4, 5]})\n",
    "x"
   ]
  },
  {
   "cell_type": "code",
   "execution_count": 67,
   "id": "fluid-result",
   "metadata": {},
   "outputs": [
    {
     "data": {
      "text/html": [
       "<div>\n",
       "<style scoped>\n",
       "    .dataframe tbody tr th:only-of-type {\n",
       "        vertical-align: middle;\n",
       "    }\n",
       "\n",
       "    .dataframe tbody tr th {\n",
       "        vertical-align: top;\n",
       "    }\n",
       "\n",
       "    .dataframe thead th {\n",
       "        text-align: right;\n",
       "    }\n",
       "</style>\n",
       "<table border=\"1\" class=\"dataframe\">\n",
       "  <thead>\n",
       "    <tr style=\"text-align: right;\">\n",
       "      <th></th>\n",
       "      <th>x</th>\n",
       "      <th>y</th>\n",
       "    </tr>\n",
       "  </thead>\n",
       "  <tbody>\n",
       "    <tr>\n",
       "      <th>0</th>\n",
       "      <td>1</td>\n",
       "      <td>3</td>\n",
       "    </tr>\n",
       "    <tr>\n",
       "      <th>1</th>\n",
       "      <td>9</td>\n",
       "      <td>99</td>\n",
       "    </tr>\n",
       "    <tr>\n",
       "      <th>2</th>\n",
       "      <td>3</td>\n",
       "      <td>5</td>\n",
       "    </tr>\n",
       "  </tbody>\n",
       "</table>\n",
       "</div>"
      ],
      "text/plain": [
       "   x   y\n",
       "0  1   3\n",
       "1  9  99\n",
       "2  3   5"
      ]
     },
     "execution_count": 67,
     "metadata": {},
     "output_type": "execute_result"
    }
   ],
   "source": [
    "x.iloc[1] = {'x': 9, 'y': 99}\n",
    "x"
   ]
  },
  {
   "cell_type": "code",
   "execution_count": 68,
   "id": "short-latvia",
   "metadata": {},
   "outputs": [
    {
     "data": {
      "text/html": [
       "<div>\n",
       "<style scoped>\n",
       "    .dataframe tbody tr th:only-of-type {\n",
       "        vertical-align: middle;\n",
       "    }\n",
       "\n",
       "    .dataframe tbody tr th {\n",
       "        vertical-align: top;\n",
       "    }\n",
       "\n",
       "    .dataframe thead th {\n",
       "        text-align: right;\n",
       "    }\n",
       "</style>\n",
       "<table border=\"1\" class=\"dataframe\">\n",
       "  <thead>\n",
       "    <tr style=\"text-align: right;\">\n",
       "      <th></th>\n",
       "      <th>one</th>\n",
       "    </tr>\n",
       "  </thead>\n",
       "  <tbody>\n",
       "    <tr>\n",
       "      <th>0</th>\n",
       "      <td>1.0</td>\n",
       "    </tr>\n",
       "    <tr>\n",
       "      <th>1</th>\n",
       "      <td>2.0</td>\n",
       "    </tr>\n",
       "    <tr>\n",
       "      <th>2</th>\n",
       "      <td>3.0</td>\n",
       "    </tr>\n",
       "  </tbody>\n",
       "</table>\n",
       "</div>"
      ],
      "text/plain": [
       "   one\n",
       "0  1.0\n",
       "1  2.0\n",
       "2  3.0"
      ]
     },
     "execution_count": 68,
     "metadata": {},
     "output_type": "execute_result"
    }
   ],
   "source": [
    "dfb = pd.DataFrame({'one': [1., 2., 3.]})\n",
    "dfb"
   ]
  },
  {
   "cell_type": "code",
   "execution_count": 69,
   "id": "turned-spelling",
   "metadata": {},
   "outputs": [
    {
     "name": "stderr",
     "output_type": "stream",
     "text": [
      "C:\\Users\\abhil\\anaconda3\\envs\\KerasPython37\\lib\\site-packages\\ipykernel_launcher.py:1: UserWarning: Pandas doesn't allow columns to be created via a new attribute name - see https://pandas.pydata.org/pandas-docs/stable/indexing.html#attribute-access\n",
      "  \"\"\"Entry point for launching an IPython kernel.\n"
     ]
    }
   ],
   "source": [
    "dfb.two = [4, 5, 6]"
   ]
  },
  {
   "cell_type": "markdown",
   "id": "brutal-techno",
   "metadata": {},
   "source": [
    "### Slicing ranges"
   ]
  },
  {
   "cell_type": "code",
   "execution_count": 70,
   "id": "instructional-yahoo",
   "metadata": {},
   "outputs": [
    {
     "data": {
      "text/plain": [
       "2000-01-01   -1.263342\n",
       "2000-01-02   -0.210266\n",
       "2000-01-03    0.274610\n",
       "2000-01-04   -0.911566\n",
       "2000-01-05    0.177414\n",
       "Freq: D, Name: A, dtype: float64"
      ]
     },
     "execution_count": 70,
     "metadata": {},
     "output_type": "execute_result"
    }
   ],
   "source": [
    "s[:5]"
   ]
  },
  {
   "cell_type": "code",
   "execution_count": 71,
   "id": "christian-intention",
   "metadata": {},
   "outputs": [
    {
     "data": {
      "text/plain": [
       "2000-01-01   -1.263342\n",
       "2000-01-03    0.274610\n",
       "2000-01-05    0.177414\n",
       "2000-01-07   -1.600893\n",
       "Freq: 2D, Name: A, dtype: float64"
      ]
     },
     "execution_count": 71,
     "metadata": {},
     "output_type": "execute_result"
    }
   ],
   "source": [
    " s[::2]"
   ]
  },
  {
   "cell_type": "code",
   "execution_count": 72,
   "id": "variable-saturday",
   "metadata": {},
   "outputs": [
    {
     "data": {
      "text/plain": [
       "2000-01-08   -0.498317\n",
       "2000-01-07   -1.600893\n",
       "2000-01-06    0.035705\n",
       "2000-01-05    0.177414\n",
       "2000-01-04   -0.911566\n",
       "2000-01-03    0.274610\n",
       "2000-01-02   -0.210266\n",
       "2000-01-01   -1.263342\n",
       "Freq: -1D, Name: A, dtype: float64"
      ]
     },
     "execution_count": 72,
     "metadata": {},
     "output_type": "execute_result"
    }
   ],
   "source": [
    "s[::-1]"
   ]
  },
  {
   "cell_type": "code",
   "execution_count": 73,
   "id": "proud-saskatchewan",
   "metadata": {},
   "outputs": [],
   "source": [
    "s2 = s.copy()"
   ]
  },
  {
   "cell_type": "code",
   "execution_count": 74,
   "id": "challenging-republican",
   "metadata": {},
   "outputs": [
    {
     "data": {
      "text/plain": [
       "2000-01-01    0.000000\n",
       "2000-01-02    0.000000\n",
       "2000-01-03    0.000000\n",
       "2000-01-04    0.000000\n",
       "2000-01-05    0.000000\n",
       "2000-01-06    0.035705\n",
       "2000-01-07   -1.600893\n",
       "2000-01-08   -0.498317\n",
       "Freq: D, Name: A, dtype: float64"
      ]
     },
     "execution_count": 74,
     "metadata": {},
     "output_type": "execute_result"
    }
   ],
   "source": [
    "s2[:5] = 0\n",
    "s2"
   ]
  },
  {
   "cell_type": "code",
   "execution_count": 75,
   "id": "global-matthew",
   "metadata": {},
   "outputs": [
    {
     "data": {
      "text/html": [
       "<div>\n",
       "<style scoped>\n",
       "    .dataframe tbody tr th:only-of-type {\n",
       "        vertical-align: middle;\n",
       "    }\n",
       "\n",
       "    .dataframe tbody tr th {\n",
       "        vertical-align: top;\n",
       "    }\n",
       "\n",
       "    .dataframe thead th {\n",
       "        text-align: right;\n",
       "    }\n",
       "</style>\n",
       "<table border=\"1\" class=\"dataframe\">\n",
       "  <thead>\n",
       "    <tr style=\"text-align: right;\">\n",
       "      <th></th>\n",
       "      <th>A</th>\n",
       "      <th>B</th>\n",
       "      <th>C</th>\n",
       "      <th>D</th>\n",
       "    </tr>\n",
       "  </thead>\n",
       "  <tbody>\n",
       "    <tr>\n",
       "      <th>2000-01-01</th>\n",
       "      <td>-1.263342</td>\n",
       "      <td>0.666581</td>\n",
       "      <td>0.484328</td>\n",
       "      <td>-0.631289</td>\n",
       "    </tr>\n",
       "    <tr>\n",
       "      <th>2000-01-02</th>\n",
       "      <td>-0.210266</td>\n",
       "      <td>0.669452</td>\n",
       "      <td>0.496605</td>\n",
       "      <td>0.284778</td>\n",
       "    </tr>\n",
       "    <tr>\n",
       "      <th>2000-01-03</th>\n",
       "      <td>0.274610</td>\n",
       "      <td>-0.428816</td>\n",
       "      <td>-0.294351</td>\n",
       "      <td>0.955873</td>\n",
       "    </tr>\n",
       "  </tbody>\n",
       "</table>\n",
       "</div>"
      ],
      "text/plain": [
       "                   A         B         C         D\n",
       "2000-01-01 -1.263342  0.666581  0.484328 -0.631289\n",
       "2000-01-02 -0.210266  0.669452  0.496605  0.284778\n",
       "2000-01-03  0.274610 -0.428816 -0.294351  0.955873"
      ]
     },
     "execution_count": 75,
     "metadata": {},
     "output_type": "execute_result"
    }
   ],
   "source": [
    "df[:3]"
   ]
  },
  {
   "cell_type": "code",
   "execution_count": 76,
   "id": "opening-pitch",
   "metadata": {},
   "outputs": [
    {
     "data": {
      "text/html": [
       "<div>\n",
       "<style scoped>\n",
       "    .dataframe tbody tr th:only-of-type {\n",
       "        vertical-align: middle;\n",
       "    }\n",
       "\n",
       "    .dataframe tbody tr th {\n",
       "        vertical-align: top;\n",
       "    }\n",
       "\n",
       "    .dataframe thead th {\n",
       "        text-align: right;\n",
       "    }\n",
       "</style>\n",
       "<table border=\"1\" class=\"dataframe\">\n",
       "  <thead>\n",
       "    <tr style=\"text-align: right;\">\n",
       "      <th></th>\n",
       "      <th>A</th>\n",
       "      <th>B</th>\n",
       "      <th>C</th>\n",
       "      <th>D</th>\n",
       "    </tr>\n",
       "  </thead>\n",
       "  <tbody>\n",
       "    <tr>\n",
       "      <th>2000-01-08</th>\n",
       "      <td>-0.498317</td>\n",
       "      <td>-0.543711</td>\n",
       "      <td>-0.279709</td>\n",
       "      <td>0.931254</td>\n",
       "    </tr>\n",
       "    <tr>\n",
       "      <th>2000-01-07</th>\n",
       "      <td>-1.600893</td>\n",
       "      <td>1.655818</td>\n",
       "      <td>-0.480091</td>\n",
       "      <td>-0.374639</td>\n",
       "    </tr>\n",
       "    <tr>\n",
       "      <th>2000-01-06</th>\n",
       "      <td>0.035705</td>\n",
       "      <td>-0.560241</td>\n",
       "      <td>0.526400</td>\n",
       "      <td>-0.642750</td>\n",
       "    </tr>\n",
       "    <tr>\n",
       "      <th>2000-01-05</th>\n",
       "      <td>0.177414</td>\n",
       "      <td>-0.134870</td>\n",
       "      <td>-1.728240</td>\n",
       "      <td>0.551976</td>\n",
       "    </tr>\n",
       "    <tr>\n",
       "      <th>2000-01-04</th>\n",
       "      <td>-0.911566</td>\n",
       "      <td>1.020426</td>\n",
       "      <td>-2.228317</td>\n",
       "      <td>0.078700</td>\n",
       "    </tr>\n",
       "    <tr>\n",
       "      <th>2000-01-03</th>\n",
       "      <td>0.274610</td>\n",
       "      <td>-0.428816</td>\n",
       "      <td>-0.294351</td>\n",
       "      <td>0.955873</td>\n",
       "    </tr>\n",
       "    <tr>\n",
       "      <th>2000-01-02</th>\n",
       "      <td>-0.210266</td>\n",
       "      <td>0.669452</td>\n",
       "      <td>0.496605</td>\n",
       "      <td>0.284778</td>\n",
       "    </tr>\n",
       "    <tr>\n",
       "      <th>2000-01-01</th>\n",
       "      <td>-1.263342</td>\n",
       "      <td>0.666581</td>\n",
       "      <td>0.484328</td>\n",
       "      <td>-0.631289</td>\n",
       "    </tr>\n",
       "  </tbody>\n",
       "</table>\n",
       "</div>"
      ],
      "text/plain": [
       "                   A         B         C         D\n",
       "2000-01-08 -0.498317 -0.543711 -0.279709  0.931254\n",
       "2000-01-07 -1.600893  1.655818 -0.480091 -0.374639\n",
       "2000-01-06  0.035705 -0.560241  0.526400 -0.642750\n",
       "2000-01-05  0.177414 -0.134870 -1.728240  0.551976\n",
       "2000-01-04 -0.911566  1.020426 -2.228317  0.078700\n",
       "2000-01-03  0.274610 -0.428816 -0.294351  0.955873\n",
       "2000-01-02 -0.210266  0.669452  0.496605  0.284778\n",
       "2000-01-01 -1.263342  0.666581  0.484328 -0.631289"
      ]
     },
     "execution_count": 76,
     "metadata": {},
     "output_type": "execute_result"
    }
   ],
   "source": [
    "df[::-1]"
   ]
  },
  {
   "cell_type": "markdown",
   "id": "optional-tiffany",
   "metadata": {},
   "source": [
    "### Selection by label"
   ]
  },
  {
   "cell_type": "code",
   "execution_count": 77,
   "id": "theoretical-central",
   "metadata": {},
   "outputs": [
    {
     "data": {
      "text/html": [
       "<div>\n",
       "<style scoped>\n",
       "    .dataframe tbody tr th:only-of-type {\n",
       "        vertical-align: middle;\n",
       "    }\n",
       "\n",
       "    .dataframe tbody tr th {\n",
       "        vertical-align: top;\n",
       "    }\n",
       "\n",
       "    .dataframe thead th {\n",
       "        text-align: right;\n",
       "    }\n",
       "</style>\n",
       "<table border=\"1\" class=\"dataframe\">\n",
       "  <thead>\n",
       "    <tr style=\"text-align: right;\">\n",
       "      <th></th>\n",
       "      <th>A</th>\n",
       "      <th>B</th>\n",
       "      <th>C</th>\n",
       "      <th>D</th>\n",
       "    </tr>\n",
       "  </thead>\n",
       "  <tbody>\n",
       "    <tr>\n",
       "      <th>2013-01-01</th>\n",
       "      <td>0.079711</td>\n",
       "      <td>1.168447</td>\n",
       "      <td>-0.358891</td>\n",
       "      <td>-0.148874</td>\n",
       "    </tr>\n",
       "    <tr>\n",
       "      <th>2013-01-02</th>\n",
       "      <td>-1.802740</td>\n",
       "      <td>-0.445357</td>\n",
       "      <td>-0.798650</td>\n",
       "      <td>-0.317377</td>\n",
       "    </tr>\n",
       "    <tr>\n",
       "      <th>2013-01-03</th>\n",
       "      <td>-0.757718</td>\n",
       "      <td>-0.606927</td>\n",
       "      <td>1.017408</td>\n",
       "      <td>0.200015</td>\n",
       "    </tr>\n",
       "    <tr>\n",
       "      <th>2013-01-04</th>\n",
       "      <td>0.284260</td>\n",
       "      <td>-1.126983</td>\n",
       "      <td>-0.361774</td>\n",
       "      <td>-0.002129</td>\n",
       "    </tr>\n",
       "    <tr>\n",
       "      <th>2013-01-05</th>\n",
       "      <td>-1.315812</td>\n",
       "      <td>-1.122901</td>\n",
       "      <td>0.200381</td>\n",
       "      <td>0.110441</td>\n",
       "    </tr>\n",
       "  </tbody>\n",
       "</table>\n",
       "</div>"
      ],
      "text/plain": [
       "                   A         B         C         D\n",
       "2013-01-01  0.079711  1.168447 -0.358891 -0.148874\n",
       "2013-01-02 -1.802740 -0.445357 -0.798650 -0.317377\n",
       "2013-01-03 -0.757718 -0.606927  1.017408  0.200015\n",
       "2013-01-04  0.284260 -1.126983 -0.361774 -0.002129\n",
       "2013-01-05 -1.315812 -1.122901  0.200381  0.110441"
      ]
     },
     "execution_count": 77,
     "metadata": {},
     "output_type": "execute_result"
    }
   ],
   "source": [
    "dfl = pd.DataFrame(np.random.randn(5, 4),\n",
    "   ....:                    columns=list('ABCD'),\n",
    "   ....:                    index=pd.date_range('20130101', periods=5))\n",
    "\n",
    "dfl"
   ]
  },
  {
   "cell_type": "code",
   "execution_count": 79,
   "id": "preceding-geology",
   "metadata": {},
   "outputs": [
    {
     "data": {
      "text/html": [
       "<div>\n",
       "<style scoped>\n",
       "    .dataframe tbody tr th:only-of-type {\n",
       "        vertical-align: middle;\n",
       "    }\n",
       "\n",
       "    .dataframe tbody tr th {\n",
       "        vertical-align: top;\n",
       "    }\n",
       "\n",
       "    .dataframe thead th {\n",
       "        text-align: right;\n",
       "    }\n",
       "</style>\n",
       "<table border=\"1\" class=\"dataframe\">\n",
       "  <thead>\n",
       "    <tr style=\"text-align: right;\">\n",
       "      <th></th>\n",
       "      <th>A</th>\n",
       "      <th>B</th>\n",
       "      <th>C</th>\n",
       "      <th>D</th>\n",
       "    </tr>\n",
       "  </thead>\n",
       "  <tbody>\n",
       "    <tr>\n",
       "      <th>2013-01-02</th>\n",
       "      <td>-1.802740</td>\n",
       "      <td>-0.445357</td>\n",
       "      <td>-0.798650</td>\n",
       "      <td>-0.317377</td>\n",
       "    </tr>\n",
       "    <tr>\n",
       "      <th>2013-01-03</th>\n",
       "      <td>-0.757718</td>\n",
       "      <td>-0.606927</td>\n",
       "      <td>1.017408</td>\n",
       "      <td>0.200015</td>\n",
       "    </tr>\n",
       "    <tr>\n",
       "      <th>2013-01-04</th>\n",
       "      <td>0.284260</td>\n",
       "      <td>-1.126983</td>\n",
       "      <td>-0.361774</td>\n",
       "      <td>-0.002129</td>\n",
       "    </tr>\n",
       "  </tbody>\n",
       "</table>\n",
       "</div>"
      ],
      "text/plain": [
       "                   A         B         C         D\n",
       "2013-01-02 -1.802740 -0.445357 -0.798650 -0.317377\n",
       "2013-01-03 -0.757718 -0.606927  1.017408  0.200015\n",
       "2013-01-04  0.284260 -1.126983 -0.361774 -0.002129"
      ]
     },
     "execution_count": 79,
     "metadata": {},
     "output_type": "execute_result"
    }
   ],
   "source": [
    "dfl.loc['20130102':'20130104']"
   ]
  },
  {
   "cell_type": "code",
   "execution_count": 80,
   "id": "exact-still",
   "metadata": {},
   "outputs": [
    {
     "data": {
      "text/plain": [
       "a    0.384226\n",
       "b   -2.523014\n",
       "c    1.206921\n",
       "d   -0.780775\n",
       "e   -0.594600\n",
       "f   -1.058626\n",
       "dtype: float64"
      ]
     },
     "execution_count": 80,
     "metadata": {},
     "output_type": "execute_result"
    }
   ],
   "source": [
    "s1 = pd.Series(np.random.randn(6), index=list('abcdef'))\n",
    "s1"
   ]
  },
  {
   "cell_type": "code",
   "execution_count": null,
   "id": "threatened-mauritius",
   "metadata": {},
   "outputs": [],
   "source": []
  }
 ],
 "metadata": {
  "kernelspec": {
   "display_name": "Python 3",
   "language": "python",
   "name": "python3"
  },
  "language_info": {
   "codemirror_mode": {
    "name": "ipython",
    "version": 3
   },
   "file_extension": ".py",
   "mimetype": "text/x-python",
   "name": "python",
   "nbconvert_exporter": "python",
   "pygments_lexer": "ipython3",
   "version": "3.7.9"
  }
 },
 "nbformat": 4,
 "nbformat_minor": 5
}
