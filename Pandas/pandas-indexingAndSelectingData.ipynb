{
 "cells": [
  {
   "cell_type": "code",
   "execution_count": 48,
   "id": "therapeutic-mobility",
   "metadata": {},
   "outputs": [],
   "source": [
    "import pandas as pd\n",
    "import numpy as np"
   ]
  },
  {
   "cell_type": "code",
   "execution_count": 49,
   "id": "automated-theorem",
   "metadata": {},
   "outputs": [
    {
     "data": {
      "text/plain": [
       "DatetimeIndex(['2000-01-01', '2000-01-02', '2000-01-03', '2000-01-04',\n",
       "               '2000-01-05', '2000-01-06', '2000-01-07', '2000-01-08'],\n",
       "              dtype='datetime64[ns]', freq='D')"
      ]
     },
     "execution_count": 49,
     "metadata": {},
     "output_type": "execute_result"
    }
   ],
   "source": [
    "dates = pd.date_range('1/1/2000', periods=8)\n",
    "dates"
   ]
  },
  {
   "cell_type": "code",
   "execution_count": 50,
   "id": "front-memorial",
   "metadata": {},
   "outputs": [
    {
     "data": {
      "text/html": [
       "<div>\n",
       "<style scoped>\n",
       "    .dataframe tbody tr th:only-of-type {\n",
       "        vertical-align: middle;\n",
       "    }\n",
       "\n",
       "    .dataframe tbody tr th {\n",
       "        vertical-align: top;\n",
       "    }\n",
       "\n",
       "    .dataframe thead th {\n",
       "        text-align: right;\n",
       "    }\n",
       "</style>\n",
       "<table border=\"1\" class=\"dataframe\">\n",
       "  <thead>\n",
       "    <tr style=\"text-align: right;\">\n",
       "      <th></th>\n",
       "      <th>A</th>\n",
       "      <th>B</th>\n",
       "      <th>C</th>\n",
       "      <th>D</th>\n",
       "    </tr>\n",
       "  </thead>\n",
       "  <tbody>\n",
       "    <tr>\n",
       "      <th>2000-01-01</th>\n",
       "      <td>-1.263342</td>\n",
       "      <td>0.666581</td>\n",
       "      <td>0.484328</td>\n",
       "      <td>-0.631289</td>\n",
       "    </tr>\n",
       "    <tr>\n",
       "      <th>2000-01-02</th>\n",
       "      <td>-0.210266</td>\n",
       "      <td>0.669452</td>\n",
       "      <td>0.496605</td>\n",
       "      <td>0.284778</td>\n",
       "    </tr>\n",
       "    <tr>\n",
       "      <th>2000-01-03</th>\n",
       "      <td>0.274610</td>\n",
       "      <td>-0.428816</td>\n",
       "      <td>-0.294351</td>\n",
       "      <td>0.955873</td>\n",
       "    </tr>\n",
       "    <tr>\n",
       "      <th>2000-01-04</th>\n",
       "      <td>-0.911566</td>\n",
       "      <td>1.020426</td>\n",
       "      <td>-2.228317</td>\n",
       "      <td>0.078700</td>\n",
       "    </tr>\n",
       "    <tr>\n",
       "      <th>2000-01-05</th>\n",
       "      <td>0.177414</td>\n",
       "      <td>-0.134870</td>\n",
       "      <td>-1.728240</td>\n",
       "      <td>0.551976</td>\n",
       "    </tr>\n",
       "    <tr>\n",
       "      <th>2000-01-06</th>\n",
       "      <td>0.035705</td>\n",
       "      <td>-0.560241</td>\n",
       "      <td>0.526400</td>\n",
       "      <td>-0.642750</td>\n",
       "    </tr>\n",
       "    <tr>\n",
       "      <th>2000-01-07</th>\n",
       "      <td>-1.600893</td>\n",
       "      <td>1.655818</td>\n",
       "      <td>-0.480091</td>\n",
       "      <td>-0.374639</td>\n",
       "    </tr>\n",
       "    <tr>\n",
       "      <th>2000-01-08</th>\n",
       "      <td>-0.498317</td>\n",
       "      <td>-0.543711</td>\n",
       "      <td>-0.279709</td>\n",
       "      <td>0.931254</td>\n",
       "    </tr>\n",
       "  </tbody>\n",
       "</table>\n",
       "</div>"
      ],
      "text/plain": [
       "                   A         B         C         D\n",
       "2000-01-01 -1.263342  0.666581  0.484328 -0.631289\n",
       "2000-01-02 -0.210266  0.669452  0.496605  0.284778\n",
       "2000-01-03  0.274610 -0.428816 -0.294351  0.955873\n",
       "2000-01-04 -0.911566  1.020426 -2.228317  0.078700\n",
       "2000-01-05  0.177414 -0.134870 -1.728240  0.551976\n",
       "2000-01-06  0.035705 -0.560241  0.526400 -0.642750\n",
       "2000-01-07 -1.600893  1.655818 -0.480091 -0.374639\n",
       "2000-01-08 -0.498317 -0.543711 -0.279709  0.931254"
      ]
     },
     "execution_count": 50,
     "metadata": {},
     "output_type": "execute_result"
    }
   ],
   "source": [
    "df = pd.DataFrame(np.random.randn(8, 4),\n",
    "   ...:                   index=dates, columns=['A', 'B', 'C', 'D'])\n",
    "df"
   ]
  },
  {
   "cell_type": "code",
   "execution_count": 51,
   "id": "enhanced-ecuador",
   "metadata": {},
   "outputs": [],
   "source": [
    "s = df['A']"
   ]
  },
  {
   "cell_type": "code",
   "execution_count": 52,
   "id": "mounted-tournament",
   "metadata": {},
   "outputs": [
    {
     "data": {
      "text/plain": [
       "0.03570532497066032"
      ]
     },
     "execution_count": 52,
     "metadata": {},
     "output_type": "execute_result"
    }
   ],
   "source": [
    "s[dates[5]]"
   ]
  },
  {
   "cell_type": "code",
   "execution_count": 53,
   "id": "difficult-completion",
   "metadata": {},
   "outputs": [
    {
     "data": {
      "text/html": [
       "<div>\n",
       "<style scoped>\n",
       "    .dataframe tbody tr th:only-of-type {\n",
       "        vertical-align: middle;\n",
       "    }\n",
       "\n",
       "    .dataframe tbody tr th {\n",
       "        vertical-align: top;\n",
       "    }\n",
       "\n",
       "    .dataframe thead th {\n",
       "        text-align: right;\n",
       "    }\n",
       "</style>\n",
       "<table border=\"1\" class=\"dataframe\">\n",
       "  <thead>\n",
       "    <tr style=\"text-align: right;\">\n",
       "      <th></th>\n",
       "      <th>A</th>\n",
       "      <th>B</th>\n",
       "      <th>C</th>\n",
       "      <th>D</th>\n",
       "    </tr>\n",
       "  </thead>\n",
       "  <tbody>\n",
       "    <tr>\n",
       "      <th>2000-01-01</th>\n",
       "      <td>0.666581</td>\n",
       "      <td>-1.263342</td>\n",
       "      <td>0.484328</td>\n",
       "      <td>-0.631289</td>\n",
       "    </tr>\n",
       "    <tr>\n",
       "      <th>2000-01-02</th>\n",
       "      <td>0.669452</td>\n",
       "      <td>-0.210266</td>\n",
       "      <td>0.496605</td>\n",
       "      <td>0.284778</td>\n",
       "    </tr>\n",
       "    <tr>\n",
       "      <th>2000-01-03</th>\n",
       "      <td>-0.428816</td>\n",
       "      <td>0.274610</td>\n",
       "      <td>-0.294351</td>\n",
       "      <td>0.955873</td>\n",
       "    </tr>\n",
       "    <tr>\n",
       "      <th>2000-01-04</th>\n",
       "      <td>1.020426</td>\n",
       "      <td>-0.911566</td>\n",
       "      <td>-2.228317</td>\n",
       "      <td>0.078700</td>\n",
       "    </tr>\n",
       "    <tr>\n",
       "      <th>2000-01-05</th>\n",
       "      <td>-0.134870</td>\n",
       "      <td>0.177414</td>\n",
       "      <td>-1.728240</td>\n",
       "      <td>0.551976</td>\n",
       "    </tr>\n",
       "    <tr>\n",
       "      <th>2000-01-06</th>\n",
       "      <td>-0.560241</td>\n",
       "      <td>0.035705</td>\n",
       "      <td>0.526400</td>\n",
       "      <td>-0.642750</td>\n",
       "    </tr>\n",
       "    <tr>\n",
       "      <th>2000-01-07</th>\n",
       "      <td>1.655818</td>\n",
       "      <td>-1.600893</td>\n",
       "      <td>-0.480091</td>\n",
       "      <td>-0.374639</td>\n",
       "    </tr>\n",
       "    <tr>\n",
       "      <th>2000-01-08</th>\n",
       "      <td>-0.543711</td>\n",
       "      <td>-0.498317</td>\n",
       "      <td>-0.279709</td>\n",
       "      <td>0.931254</td>\n",
       "    </tr>\n",
       "  </tbody>\n",
       "</table>\n",
       "</div>"
      ],
      "text/plain": [
       "                   A         B         C         D\n",
       "2000-01-01  0.666581 -1.263342  0.484328 -0.631289\n",
       "2000-01-02  0.669452 -0.210266  0.496605  0.284778\n",
       "2000-01-03 -0.428816  0.274610 -0.294351  0.955873\n",
       "2000-01-04  1.020426 -0.911566 -2.228317  0.078700\n",
       "2000-01-05 -0.134870  0.177414 -1.728240  0.551976\n",
       "2000-01-06 -0.560241  0.035705  0.526400 -0.642750\n",
       "2000-01-07  1.655818 -1.600893 -0.480091 -0.374639\n",
       "2000-01-08 -0.543711 -0.498317 -0.279709  0.931254"
      ]
     },
     "execution_count": 53,
     "metadata": {},
     "output_type": "execute_result"
    }
   ],
   "source": [
    "df[['B', 'A']] = df[['A', 'B']]\n",
    "df"
   ]
  },
  {
   "cell_type": "code",
   "execution_count": 54,
   "id": "anonymous-conclusion",
   "metadata": {},
   "outputs": [
    {
     "data": {
      "text/html": [
       "<div>\n",
       "<style scoped>\n",
       "    .dataframe tbody tr th:only-of-type {\n",
       "        vertical-align: middle;\n",
       "    }\n",
       "\n",
       "    .dataframe tbody tr th {\n",
       "        vertical-align: top;\n",
       "    }\n",
       "\n",
       "    .dataframe thead th {\n",
       "        text-align: right;\n",
       "    }\n",
       "</style>\n",
       "<table border=\"1\" class=\"dataframe\">\n",
       "  <thead>\n",
       "    <tr style=\"text-align: right;\">\n",
       "      <th></th>\n",
       "      <th>A</th>\n",
       "      <th>B</th>\n",
       "    </tr>\n",
       "  </thead>\n",
       "  <tbody>\n",
       "    <tr>\n",
       "      <th>2000-01-01</th>\n",
       "      <td>0.666581</td>\n",
       "      <td>-1.263342</td>\n",
       "    </tr>\n",
       "    <tr>\n",
       "      <th>2000-01-02</th>\n",
       "      <td>0.669452</td>\n",
       "      <td>-0.210266</td>\n",
       "    </tr>\n",
       "    <tr>\n",
       "      <th>2000-01-03</th>\n",
       "      <td>-0.428816</td>\n",
       "      <td>0.274610</td>\n",
       "    </tr>\n",
       "    <tr>\n",
       "      <th>2000-01-04</th>\n",
       "      <td>1.020426</td>\n",
       "      <td>-0.911566</td>\n",
       "    </tr>\n",
       "    <tr>\n",
       "      <th>2000-01-05</th>\n",
       "      <td>-0.134870</td>\n",
       "      <td>0.177414</td>\n",
       "    </tr>\n",
       "    <tr>\n",
       "      <th>2000-01-06</th>\n",
       "      <td>-0.560241</td>\n",
       "      <td>0.035705</td>\n",
       "    </tr>\n",
       "    <tr>\n",
       "      <th>2000-01-07</th>\n",
       "      <td>1.655818</td>\n",
       "      <td>-1.600893</td>\n",
       "    </tr>\n",
       "    <tr>\n",
       "      <th>2000-01-08</th>\n",
       "      <td>-0.543711</td>\n",
       "      <td>-0.498317</td>\n",
       "    </tr>\n",
       "  </tbody>\n",
       "</table>\n",
       "</div>"
      ],
      "text/plain": [
       "                   A         B\n",
       "2000-01-01  0.666581 -1.263342\n",
       "2000-01-02  0.669452 -0.210266\n",
       "2000-01-03 -0.428816  0.274610\n",
       "2000-01-04  1.020426 -0.911566\n",
       "2000-01-05 -0.134870  0.177414\n",
       "2000-01-06 -0.560241  0.035705\n",
       "2000-01-07  1.655818 -1.600893\n",
       "2000-01-08 -0.543711 -0.498317"
      ]
     },
     "execution_count": 54,
     "metadata": {},
     "output_type": "execute_result"
    }
   ],
   "source": [
    "df[['A', 'B']]"
   ]
  },
  {
   "cell_type": "code",
   "execution_count": 55,
   "id": "advised-minority",
   "metadata": {},
   "outputs": [],
   "source": [
    "df.loc[:, ['B', 'A']] = df[['A', 'B']]"
   ]
  },
  {
   "cell_type": "code",
   "execution_count": 56,
   "id": "practical-demographic",
   "metadata": {},
   "outputs": [
    {
     "data": {
      "text/html": [
       "<div>\n",
       "<style scoped>\n",
       "    .dataframe tbody tr th:only-of-type {\n",
       "        vertical-align: middle;\n",
       "    }\n",
       "\n",
       "    .dataframe tbody tr th {\n",
       "        vertical-align: top;\n",
       "    }\n",
       "\n",
       "    .dataframe thead th {\n",
       "        text-align: right;\n",
       "    }\n",
       "</style>\n",
       "<table border=\"1\" class=\"dataframe\">\n",
       "  <thead>\n",
       "    <tr style=\"text-align: right;\">\n",
       "      <th></th>\n",
       "      <th>A</th>\n",
       "      <th>B</th>\n",
       "    </tr>\n",
       "  </thead>\n",
       "  <tbody>\n",
       "    <tr>\n",
       "      <th>2000-01-01</th>\n",
       "      <td>0.666581</td>\n",
       "      <td>-1.263342</td>\n",
       "    </tr>\n",
       "    <tr>\n",
       "      <th>2000-01-02</th>\n",
       "      <td>0.669452</td>\n",
       "      <td>-0.210266</td>\n",
       "    </tr>\n",
       "    <tr>\n",
       "      <th>2000-01-03</th>\n",
       "      <td>-0.428816</td>\n",
       "      <td>0.274610</td>\n",
       "    </tr>\n",
       "    <tr>\n",
       "      <th>2000-01-04</th>\n",
       "      <td>1.020426</td>\n",
       "      <td>-0.911566</td>\n",
       "    </tr>\n",
       "    <tr>\n",
       "      <th>2000-01-05</th>\n",
       "      <td>-0.134870</td>\n",
       "      <td>0.177414</td>\n",
       "    </tr>\n",
       "    <tr>\n",
       "      <th>2000-01-06</th>\n",
       "      <td>-0.560241</td>\n",
       "      <td>0.035705</td>\n",
       "    </tr>\n",
       "    <tr>\n",
       "      <th>2000-01-07</th>\n",
       "      <td>1.655818</td>\n",
       "      <td>-1.600893</td>\n",
       "    </tr>\n",
       "    <tr>\n",
       "      <th>2000-01-08</th>\n",
       "      <td>-0.543711</td>\n",
       "      <td>-0.498317</td>\n",
       "    </tr>\n",
       "  </tbody>\n",
       "</table>\n",
       "</div>"
      ],
      "text/plain": [
       "                   A         B\n",
       "2000-01-01  0.666581 -1.263342\n",
       "2000-01-02  0.669452 -0.210266\n",
       "2000-01-03 -0.428816  0.274610\n",
       "2000-01-04  1.020426 -0.911566\n",
       "2000-01-05 -0.134870  0.177414\n",
       "2000-01-06 -0.560241  0.035705\n",
       "2000-01-07  1.655818 -1.600893\n",
       "2000-01-08 -0.543711 -0.498317"
      ]
     },
     "execution_count": 56,
     "metadata": {},
     "output_type": "execute_result"
    }
   ],
   "source": [
    "df[['A', 'B']]"
   ]
  },
  {
   "cell_type": "code",
   "execution_count": 57,
   "id": "conscious-digest",
   "metadata": {},
   "outputs": [],
   "source": [
    "df.loc[:, ['B', 'A']] = df[['A', 'B']].to_numpy()"
   ]
  },
  {
   "cell_type": "code",
   "execution_count": 58,
   "id": "aerial-minority",
   "metadata": {},
   "outputs": [
    {
     "data": {
      "text/html": [
       "<div>\n",
       "<style scoped>\n",
       "    .dataframe tbody tr th:only-of-type {\n",
       "        vertical-align: middle;\n",
       "    }\n",
       "\n",
       "    .dataframe tbody tr th {\n",
       "        vertical-align: top;\n",
       "    }\n",
       "\n",
       "    .dataframe thead th {\n",
       "        text-align: right;\n",
       "    }\n",
       "</style>\n",
       "<table border=\"1\" class=\"dataframe\">\n",
       "  <thead>\n",
       "    <tr style=\"text-align: right;\">\n",
       "      <th></th>\n",
       "      <th>A</th>\n",
       "      <th>B</th>\n",
       "    </tr>\n",
       "  </thead>\n",
       "  <tbody>\n",
       "    <tr>\n",
       "      <th>2000-01-01</th>\n",
       "      <td>-1.263342</td>\n",
       "      <td>0.666581</td>\n",
       "    </tr>\n",
       "    <tr>\n",
       "      <th>2000-01-02</th>\n",
       "      <td>-0.210266</td>\n",
       "      <td>0.669452</td>\n",
       "    </tr>\n",
       "    <tr>\n",
       "      <th>2000-01-03</th>\n",
       "      <td>0.274610</td>\n",
       "      <td>-0.428816</td>\n",
       "    </tr>\n",
       "    <tr>\n",
       "      <th>2000-01-04</th>\n",
       "      <td>-0.911566</td>\n",
       "      <td>1.020426</td>\n",
       "    </tr>\n",
       "    <tr>\n",
       "      <th>2000-01-05</th>\n",
       "      <td>0.177414</td>\n",
       "      <td>-0.134870</td>\n",
       "    </tr>\n",
       "    <tr>\n",
       "      <th>2000-01-06</th>\n",
       "      <td>0.035705</td>\n",
       "      <td>-0.560241</td>\n",
       "    </tr>\n",
       "    <tr>\n",
       "      <th>2000-01-07</th>\n",
       "      <td>-1.600893</td>\n",
       "      <td>1.655818</td>\n",
       "    </tr>\n",
       "    <tr>\n",
       "      <th>2000-01-08</th>\n",
       "      <td>-0.498317</td>\n",
       "      <td>-0.543711</td>\n",
       "    </tr>\n",
       "  </tbody>\n",
       "</table>\n",
       "</div>"
      ],
      "text/plain": [
       "                   A         B\n",
       "2000-01-01 -1.263342  0.666581\n",
       "2000-01-02 -0.210266  0.669452\n",
       "2000-01-03  0.274610 -0.428816\n",
       "2000-01-04 -0.911566  1.020426\n",
       "2000-01-05  0.177414 -0.134870\n",
       "2000-01-06  0.035705 -0.560241\n",
       "2000-01-07 -1.600893  1.655818\n",
       "2000-01-08 -0.498317 -0.543711"
      ]
     },
     "execution_count": 58,
     "metadata": {},
     "output_type": "execute_result"
    }
   ],
   "source": [
    "df[['A', 'B']]"
   ]
  },
  {
   "cell_type": "markdown",
   "id": "electrical-resistance",
   "metadata": {},
   "source": [
    "### Attribute access"
   ]
  },
  {
   "cell_type": "code",
   "execution_count": 59,
   "id": "generic-vintage",
   "metadata": {},
   "outputs": [
    {
     "data": {
      "text/plain": [
       "a    1\n",
       "b    2\n",
       "c    3\n",
       "dtype: int64"
      ]
     },
     "execution_count": 59,
     "metadata": {},
     "output_type": "execute_result"
    }
   ],
   "source": [
    "sa = pd.Series([1, 2, 3], index=list('abc'))\n",
    "sa"
   ]
  },
  {
   "cell_type": "code",
   "execution_count": 60,
   "id": "right-fraction",
   "metadata": {},
   "outputs": [
    {
     "data": {
      "text/html": [
       "<div>\n",
       "<style scoped>\n",
       "    .dataframe tbody tr th:only-of-type {\n",
       "        vertical-align: middle;\n",
       "    }\n",
       "\n",
       "    .dataframe tbody tr th {\n",
       "        vertical-align: top;\n",
       "    }\n",
       "\n",
       "    .dataframe thead th {\n",
       "        text-align: right;\n",
       "    }\n",
       "</style>\n",
       "<table border=\"1\" class=\"dataframe\">\n",
       "  <thead>\n",
       "    <tr style=\"text-align: right;\">\n",
       "      <th></th>\n",
       "      <th>A</th>\n",
       "      <th>B</th>\n",
       "      <th>C</th>\n",
       "      <th>D</th>\n",
       "    </tr>\n",
       "  </thead>\n",
       "  <tbody>\n",
       "    <tr>\n",
       "      <th>2000-01-01</th>\n",
       "      <td>-1.263342</td>\n",
       "      <td>0.666581</td>\n",
       "      <td>0.484328</td>\n",
       "      <td>-0.631289</td>\n",
       "    </tr>\n",
       "    <tr>\n",
       "      <th>2000-01-02</th>\n",
       "      <td>-0.210266</td>\n",
       "      <td>0.669452</td>\n",
       "      <td>0.496605</td>\n",
       "      <td>0.284778</td>\n",
       "    </tr>\n",
       "    <tr>\n",
       "      <th>2000-01-03</th>\n",
       "      <td>0.274610</td>\n",
       "      <td>-0.428816</td>\n",
       "      <td>-0.294351</td>\n",
       "      <td>0.955873</td>\n",
       "    </tr>\n",
       "    <tr>\n",
       "      <th>2000-01-04</th>\n",
       "      <td>-0.911566</td>\n",
       "      <td>1.020426</td>\n",
       "      <td>-2.228317</td>\n",
       "      <td>0.078700</td>\n",
       "    </tr>\n",
       "    <tr>\n",
       "      <th>2000-01-05</th>\n",
       "      <td>0.177414</td>\n",
       "      <td>-0.134870</td>\n",
       "      <td>-1.728240</td>\n",
       "      <td>0.551976</td>\n",
       "    </tr>\n",
       "    <tr>\n",
       "      <th>2000-01-06</th>\n",
       "      <td>0.035705</td>\n",
       "      <td>-0.560241</td>\n",
       "      <td>0.526400</td>\n",
       "      <td>-0.642750</td>\n",
       "    </tr>\n",
       "    <tr>\n",
       "      <th>2000-01-07</th>\n",
       "      <td>-1.600893</td>\n",
       "      <td>1.655818</td>\n",
       "      <td>-0.480091</td>\n",
       "      <td>-0.374639</td>\n",
       "    </tr>\n",
       "    <tr>\n",
       "      <th>2000-01-08</th>\n",
       "      <td>-0.498317</td>\n",
       "      <td>-0.543711</td>\n",
       "      <td>-0.279709</td>\n",
       "      <td>0.931254</td>\n",
       "    </tr>\n",
       "  </tbody>\n",
       "</table>\n",
       "</div>"
      ],
      "text/plain": [
       "                   A         B         C         D\n",
       "2000-01-01 -1.263342  0.666581  0.484328 -0.631289\n",
       "2000-01-02 -0.210266  0.669452  0.496605  0.284778\n",
       "2000-01-03  0.274610 -0.428816 -0.294351  0.955873\n",
       "2000-01-04 -0.911566  1.020426 -2.228317  0.078700\n",
       "2000-01-05  0.177414 -0.134870 -1.728240  0.551976\n",
       "2000-01-06  0.035705 -0.560241  0.526400 -0.642750\n",
       "2000-01-07 -1.600893  1.655818 -0.480091 -0.374639\n",
       "2000-01-08 -0.498317 -0.543711 -0.279709  0.931254"
      ]
     },
     "execution_count": 60,
     "metadata": {},
     "output_type": "execute_result"
    }
   ],
   "source": [
    "dfa = df.copy()\n",
    "dfa"
   ]
  },
  {
   "cell_type": "code",
   "execution_count": 61,
   "id": "reliable-cocktail",
   "metadata": {},
   "outputs": [
    {
     "data": {
      "text/plain": [
       "2"
      ]
     },
     "execution_count": 61,
     "metadata": {},
     "output_type": "execute_result"
    }
   ],
   "source": [
    "sa['b'] # or sa.b"
   ]
  },
  {
   "cell_type": "code",
   "execution_count": 62,
   "id": "opposed-centre",
   "metadata": {},
   "outputs": [
    {
     "data": {
      "text/plain": [
       "2000-01-01   -1.263342\n",
       "2000-01-02   -0.210266\n",
       "2000-01-03    0.274610\n",
       "2000-01-04   -0.911566\n",
       "2000-01-05    0.177414\n",
       "2000-01-06    0.035705\n",
       "2000-01-07   -1.600893\n",
       "2000-01-08   -0.498317\n",
       "Freq: D, Name: A, dtype: float64"
      ]
     },
     "execution_count": 62,
     "metadata": {},
     "output_type": "execute_result"
    }
   ],
   "source": [
    "dfa.A # or dfa['A']"
   ]
  },
  {
   "cell_type": "code",
   "execution_count": 63,
   "id": "african-immune",
   "metadata": {},
   "outputs": [
    {
     "data": {
      "text/plain": [
       "a    5\n",
       "b    2\n",
       "c    3\n",
       "dtype: int64"
      ]
     },
     "execution_count": 63,
     "metadata": {},
     "output_type": "execute_result"
    }
   ],
   "source": [
    "sa.a = 5\n",
    "sa"
   ]
  },
  {
   "cell_type": "code",
   "execution_count": 64,
   "id": "eligible-checklist",
   "metadata": {},
   "outputs": [
    {
     "data": {
      "text/html": [
       "<div>\n",
       "<style scoped>\n",
       "    .dataframe tbody tr th:only-of-type {\n",
       "        vertical-align: middle;\n",
       "    }\n",
       "\n",
       "    .dataframe tbody tr th {\n",
       "        vertical-align: top;\n",
       "    }\n",
       "\n",
       "    .dataframe thead th {\n",
       "        text-align: right;\n",
       "    }\n",
       "</style>\n",
       "<table border=\"1\" class=\"dataframe\">\n",
       "  <thead>\n",
       "    <tr style=\"text-align: right;\">\n",
       "      <th></th>\n",
       "      <th>A</th>\n",
       "      <th>B</th>\n",
       "      <th>C</th>\n",
       "      <th>D</th>\n",
       "    </tr>\n",
       "  </thead>\n",
       "  <tbody>\n",
       "    <tr>\n",
       "      <th>2000-01-01</th>\n",
       "      <td>0</td>\n",
       "      <td>0.666581</td>\n",
       "      <td>0.484328</td>\n",
       "      <td>-0.631289</td>\n",
       "    </tr>\n",
       "    <tr>\n",
       "      <th>2000-01-02</th>\n",
       "      <td>1</td>\n",
       "      <td>0.669452</td>\n",
       "      <td>0.496605</td>\n",
       "      <td>0.284778</td>\n",
       "    </tr>\n",
       "    <tr>\n",
       "      <th>2000-01-03</th>\n",
       "      <td>2</td>\n",
       "      <td>-0.428816</td>\n",
       "      <td>-0.294351</td>\n",
       "      <td>0.955873</td>\n",
       "    </tr>\n",
       "    <tr>\n",
       "      <th>2000-01-04</th>\n",
       "      <td>3</td>\n",
       "      <td>1.020426</td>\n",
       "      <td>-2.228317</td>\n",
       "      <td>0.078700</td>\n",
       "    </tr>\n",
       "    <tr>\n",
       "      <th>2000-01-05</th>\n",
       "      <td>4</td>\n",
       "      <td>-0.134870</td>\n",
       "      <td>-1.728240</td>\n",
       "      <td>0.551976</td>\n",
       "    </tr>\n",
       "    <tr>\n",
       "      <th>2000-01-06</th>\n",
       "      <td>5</td>\n",
       "      <td>-0.560241</td>\n",
       "      <td>0.526400</td>\n",
       "      <td>-0.642750</td>\n",
       "    </tr>\n",
       "    <tr>\n",
       "      <th>2000-01-07</th>\n",
       "      <td>6</td>\n",
       "      <td>1.655818</td>\n",
       "      <td>-0.480091</td>\n",
       "      <td>-0.374639</td>\n",
       "    </tr>\n",
       "    <tr>\n",
       "      <th>2000-01-08</th>\n",
       "      <td>7</td>\n",
       "      <td>-0.543711</td>\n",
       "      <td>-0.279709</td>\n",
       "      <td>0.931254</td>\n",
       "    </tr>\n",
       "  </tbody>\n",
       "</table>\n",
       "</div>"
      ],
      "text/plain": [
       "            A         B         C         D\n",
       "2000-01-01  0  0.666581  0.484328 -0.631289\n",
       "2000-01-02  1  0.669452  0.496605  0.284778\n",
       "2000-01-03  2 -0.428816 -0.294351  0.955873\n",
       "2000-01-04  3  1.020426 -2.228317  0.078700\n",
       "2000-01-05  4 -0.134870 -1.728240  0.551976\n",
       "2000-01-06  5 -0.560241  0.526400 -0.642750\n",
       "2000-01-07  6  1.655818 -0.480091 -0.374639\n",
       "2000-01-08  7 -0.543711 -0.279709  0.931254"
      ]
     },
     "execution_count": 64,
     "metadata": {},
     "output_type": "execute_result"
    }
   ],
   "source": [
    "dfa.A = list(range(len(dfa.index)))\n",
    "dfa"
   ]
  },
  {
   "cell_type": "code",
   "execution_count": 65,
   "id": "cordless-server",
   "metadata": {},
   "outputs": [
    {
     "data": {
      "text/html": [
       "<div>\n",
       "<style scoped>\n",
       "    .dataframe tbody tr th:only-of-type {\n",
       "        vertical-align: middle;\n",
       "    }\n",
       "\n",
       "    .dataframe tbody tr th {\n",
       "        vertical-align: top;\n",
       "    }\n",
       "\n",
       "    .dataframe thead th {\n",
       "        text-align: right;\n",
       "    }\n",
       "</style>\n",
       "<table border=\"1\" class=\"dataframe\">\n",
       "  <thead>\n",
       "    <tr style=\"text-align: right;\">\n",
       "      <th></th>\n",
       "      <th>A</th>\n",
       "      <th>B</th>\n",
       "      <th>C</th>\n",
       "      <th>D</th>\n",
       "    </tr>\n",
       "  </thead>\n",
       "  <tbody>\n",
       "    <tr>\n",
       "      <th>2000-01-01</th>\n",
       "      <td>0</td>\n",
       "      <td>0.666581</td>\n",
       "      <td>0.484328</td>\n",
       "      <td>-0.631289</td>\n",
       "    </tr>\n",
       "    <tr>\n",
       "      <th>2000-01-02</th>\n",
       "      <td>1</td>\n",
       "      <td>0.669452</td>\n",
       "      <td>0.496605</td>\n",
       "      <td>0.284778</td>\n",
       "    </tr>\n",
       "    <tr>\n",
       "      <th>2000-01-03</th>\n",
       "      <td>2</td>\n",
       "      <td>-0.428816</td>\n",
       "      <td>-0.294351</td>\n",
       "      <td>0.955873</td>\n",
       "    </tr>\n",
       "    <tr>\n",
       "      <th>2000-01-04</th>\n",
       "      <td>3</td>\n",
       "      <td>1.020426</td>\n",
       "      <td>-2.228317</td>\n",
       "      <td>0.078700</td>\n",
       "    </tr>\n",
       "    <tr>\n",
       "      <th>2000-01-05</th>\n",
       "      <td>4</td>\n",
       "      <td>-0.134870</td>\n",
       "      <td>-1.728240</td>\n",
       "      <td>0.551976</td>\n",
       "    </tr>\n",
       "    <tr>\n",
       "      <th>2000-01-06</th>\n",
       "      <td>5</td>\n",
       "      <td>-0.560241</td>\n",
       "      <td>0.526400</td>\n",
       "      <td>-0.642750</td>\n",
       "    </tr>\n",
       "    <tr>\n",
       "      <th>2000-01-07</th>\n",
       "      <td>6</td>\n",
       "      <td>1.655818</td>\n",
       "      <td>-0.480091</td>\n",
       "      <td>-0.374639</td>\n",
       "    </tr>\n",
       "    <tr>\n",
       "      <th>2000-01-08</th>\n",
       "      <td>7</td>\n",
       "      <td>-0.543711</td>\n",
       "      <td>-0.279709</td>\n",
       "      <td>0.931254</td>\n",
       "    </tr>\n",
       "  </tbody>\n",
       "</table>\n",
       "</div>"
      ],
      "text/plain": [
       "            A         B         C         D\n",
       "2000-01-01  0  0.666581  0.484328 -0.631289\n",
       "2000-01-02  1  0.669452  0.496605  0.284778\n",
       "2000-01-03  2 -0.428816 -0.294351  0.955873\n",
       "2000-01-04  3  1.020426 -2.228317  0.078700\n",
       "2000-01-05  4 -0.134870 -1.728240  0.551976\n",
       "2000-01-06  5 -0.560241  0.526400 -0.642750\n",
       "2000-01-07  6  1.655818 -0.480091 -0.374639\n",
       "2000-01-08  7 -0.543711 -0.279709  0.931254"
      ]
     },
     "execution_count": 65,
     "metadata": {},
     "output_type": "execute_result"
    }
   ],
   "source": [
    "dfa['A'] = list(range(len(dfa.index))) # Creating a new column A\n",
    "dfa"
   ]
  },
  {
   "cell_type": "code",
   "execution_count": 66,
   "id": "electoral-million",
   "metadata": {},
   "outputs": [
    {
     "data": {
      "text/html": [
       "<div>\n",
       "<style scoped>\n",
       "    .dataframe tbody tr th:only-of-type {\n",
       "        vertical-align: middle;\n",
       "    }\n",
       "\n",
       "    .dataframe tbody tr th {\n",
       "        vertical-align: top;\n",
       "    }\n",
       "\n",
       "    .dataframe thead th {\n",
       "        text-align: right;\n",
       "    }\n",
       "</style>\n",
       "<table border=\"1\" class=\"dataframe\">\n",
       "  <thead>\n",
       "    <tr style=\"text-align: right;\">\n",
       "      <th></th>\n",
       "      <th>x</th>\n",
       "      <th>y</th>\n",
       "    </tr>\n",
       "  </thead>\n",
       "  <tbody>\n",
       "    <tr>\n",
       "      <th>0</th>\n",
       "      <td>1</td>\n",
       "      <td>3</td>\n",
       "    </tr>\n",
       "    <tr>\n",
       "      <th>1</th>\n",
       "      <td>2</td>\n",
       "      <td>4</td>\n",
       "    </tr>\n",
       "    <tr>\n",
       "      <th>2</th>\n",
       "      <td>3</td>\n",
       "      <td>5</td>\n",
       "    </tr>\n",
       "  </tbody>\n",
       "</table>\n",
       "</div>"
      ],
      "text/plain": [
       "   x  y\n",
       "0  1  3\n",
       "1  2  4\n",
       "2  3  5"
      ]
     },
     "execution_count": 66,
     "metadata": {},
     "output_type": "execute_result"
    }
   ],
   "source": [
    "x = pd.DataFrame({'x': [1, 2, 3], 'y': [3, 4, 5]})\n",
    "x"
   ]
  },
  {
   "cell_type": "code",
   "execution_count": 67,
   "id": "convertible-monthly",
   "metadata": {},
   "outputs": [
    {
     "data": {
      "text/html": [
       "<div>\n",
       "<style scoped>\n",
       "    .dataframe tbody tr th:only-of-type {\n",
       "        vertical-align: middle;\n",
       "    }\n",
       "\n",
       "    .dataframe tbody tr th {\n",
       "        vertical-align: top;\n",
       "    }\n",
       "\n",
       "    .dataframe thead th {\n",
       "        text-align: right;\n",
       "    }\n",
       "</style>\n",
       "<table border=\"1\" class=\"dataframe\">\n",
       "  <thead>\n",
       "    <tr style=\"text-align: right;\">\n",
       "      <th></th>\n",
       "      <th>x</th>\n",
       "      <th>y</th>\n",
       "    </tr>\n",
       "  </thead>\n",
       "  <tbody>\n",
       "    <tr>\n",
       "      <th>0</th>\n",
       "      <td>1</td>\n",
       "      <td>3</td>\n",
       "    </tr>\n",
       "    <tr>\n",
       "      <th>1</th>\n",
       "      <td>9</td>\n",
       "      <td>99</td>\n",
       "    </tr>\n",
       "    <tr>\n",
       "      <th>2</th>\n",
       "      <td>3</td>\n",
       "      <td>5</td>\n",
       "    </tr>\n",
       "  </tbody>\n",
       "</table>\n",
       "</div>"
      ],
      "text/plain": [
       "   x   y\n",
       "0  1   3\n",
       "1  9  99\n",
       "2  3   5"
      ]
     },
     "execution_count": 67,
     "metadata": {},
     "output_type": "execute_result"
    }
   ],
   "source": [
    "x.iloc[1] = {'x': 9, 'y': 99}\n",
    "x"
   ]
  },
  {
   "cell_type": "code",
   "execution_count": 68,
   "id": "adapted-street",
   "metadata": {},
   "outputs": [
    {
     "data": {
      "text/html": [
       "<div>\n",
       "<style scoped>\n",
       "    .dataframe tbody tr th:only-of-type {\n",
       "        vertical-align: middle;\n",
       "    }\n",
       "\n",
       "    .dataframe tbody tr th {\n",
       "        vertical-align: top;\n",
       "    }\n",
       "\n",
       "    .dataframe thead th {\n",
       "        text-align: right;\n",
       "    }\n",
       "</style>\n",
       "<table border=\"1\" class=\"dataframe\">\n",
       "  <thead>\n",
       "    <tr style=\"text-align: right;\">\n",
       "      <th></th>\n",
       "      <th>one</th>\n",
       "    </tr>\n",
       "  </thead>\n",
       "  <tbody>\n",
       "    <tr>\n",
       "      <th>0</th>\n",
       "      <td>1.0</td>\n",
       "    </tr>\n",
       "    <tr>\n",
       "      <th>1</th>\n",
       "      <td>2.0</td>\n",
       "    </tr>\n",
       "    <tr>\n",
       "      <th>2</th>\n",
       "      <td>3.0</td>\n",
       "    </tr>\n",
       "  </tbody>\n",
       "</table>\n",
       "</div>"
      ],
      "text/plain": [
       "   one\n",
       "0  1.0\n",
       "1  2.0\n",
       "2  3.0"
      ]
     },
     "execution_count": 68,
     "metadata": {},
     "output_type": "execute_result"
    }
   ],
   "source": [
    "dfb = pd.DataFrame({'one': [1., 2., 3.]})\n",
    "dfb"
   ]
  },
  {
   "cell_type": "code",
   "execution_count": 69,
   "id": "starting-senate",
   "metadata": {},
   "outputs": [
    {
     "name": "stderr",
     "output_type": "stream",
     "text": [
      "C:\\Users\\abhil\\anaconda3\\envs\\KerasPython37\\lib\\site-packages\\ipykernel_launcher.py:1: UserWarning: Pandas doesn't allow columns to be created via a new attribute name - see https://pandas.pydata.org/pandas-docs/stable/indexing.html#attribute-access\n",
      "  \"\"\"Entry point for launching an IPython kernel.\n"
     ]
    }
   ],
   "source": [
    "dfb.two = [4, 5, 6]"
   ]
  },
  {
   "cell_type": "markdown",
   "id": "allied-allocation",
   "metadata": {},
   "source": [
    "### Slicing ranges"
   ]
  },
  {
   "cell_type": "code",
   "execution_count": 70,
   "id": "unexpected-graham",
   "metadata": {},
   "outputs": [
    {
     "data": {
      "text/plain": [
       "2000-01-01   -1.263342\n",
       "2000-01-02   -0.210266\n",
       "2000-01-03    0.274610\n",
       "2000-01-04   -0.911566\n",
       "2000-01-05    0.177414\n",
       "Freq: D, Name: A, dtype: float64"
      ]
     },
     "execution_count": 70,
     "metadata": {},
     "output_type": "execute_result"
    }
   ],
   "source": [
    "s[:5]"
   ]
  },
  {
   "cell_type": "code",
   "execution_count": 71,
   "id": "understanding-detroit",
   "metadata": {},
   "outputs": [
    {
     "data": {
      "text/plain": [
       "2000-01-01   -1.263342\n",
       "2000-01-03    0.274610\n",
       "2000-01-05    0.177414\n",
       "2000-01-07   -1.600893\n",
       "Freq: 2D, Name: A, dtype: float64"
      ]
     },
     "execution_count": 71,
     "metadata": {},
     "output_type": "execute_result"
    }
   ],
   "source": [
    " s[::2]"
   ]
  },
  {
   "cell_type": "code",
   "execution_count": 72,
   "id": "atmospheric-tonight",
   "metadata": {},
   "outputs": [
    {
     "data": {
      "text/plain": [
       "2000-01-08   -0.498317\n",
       "2000-01-07   -1.600893\n",
       "2000-01-06    0.035705\n",
       "2000-01-05    0.177414\n",
       "2000-01-04   -0.911566\n",
       "2000-01-03    0.274610\n",
       "2000-01-02   -0.210266\n",
       "2000-01-01   -1.263342\n",
       "Freq: -1D, Name: A, dtype: float64"
      ]
     },
     "execution_count": 72,
     "metadata": {},
     "output_type": "execute_result"
    }
   ],
   "source": [
    "s[::-1]"
   ]
  },
  {
   "cell_type": "code",
   "execution_count": 73,
   "id": "attached-eleven",
   "metadata": {},
   "outputs": [],
   "source": [
    "s2 = s.copy()"
   ]
  },
  {
   "cell_type": "code",
   "execution_count": 74,
   "id": "worst-behalf",
   "metadata": {},
   "outputs": [
    {
     "data": {
      "text/plain": [
       "2000-01-01    0.000000\n",
       "2000-01-02    0.000000\n",
       "2000-01-03    0.000000\n",
       "2000-01-04    0.000000\n",
       "2000-01-05    0.000000\n",
       "2000-01-06    0.035705\n",
       "2000-01-07   -1.600893\n",
       "2000-01-08   -0.498317\n",
       "Freq: D, Name: A, dtype: float64"
      ]
     },
     "execution_count": 74,
     "metadata": {},
     "output_type": "execute_result"
    }
   ],
   "source": [
    "s2[:5] = 0\n",
    "s2"
   ]
  },
  {
   "cell_type": "code",
   "execution_count": 75,
   "id": "unlike-ukraine",
   "metadata": {},
   "outputs": [
    {
     "data": {
      "text/html": [
       "<div>\n",
       "<style scoped>\n",
       "    .dataframe tbody tr th:only-of-type {\n",
       "        vertical-align: middle;\n",
       "    }\n",
       "\n",
       "    .dataframe tbody tr th {\n",
       "        vertical-align: top;\n",
       "    }\n",
       "\n",
       "    .dataframe thead th {\n",
       "        text-align: right;\n",
       "    }\n",
       "</style>\n",
       "<table border=\"1\" class=\"dataframe\">\n",
       "  <thead>\n",
       "    <tr style=\"text-align: right;\">\n",
       "      <th></th>\n",
       "      <th>A</th>\n",
       "      <th>B</th>\n",
       "      <th>C</th>\n",
       "      <th>D</th>\n",
       "    </tr>\n",
       "  </thead>\n",
       "  <tbody>\n",
       "    <tr>\n",
       "      <th>2000-01-01</th>\n",
       "      <td>-1.263342</td>\n",
       "      <td>0.666581</td>\n",
       "      <td>0.484328</td>\n",
       "      <td>-0.631289</td>\n",
       "    </tr>\n",
       "    <tr>\n",
       "      <th>2000-01-02</th>\n",
       "      <td>-0.210266</td>\n",
       "      <td>0.669452</td>\n",
       "      <td>0.496605</td>\n",
       "      <td>0.284778</td>\n",
       "    </tr>\n",
       "    <tr>\n",
       "      <th>2000-01-03</th>\n",
       "      <td>0.274610</td>\n",
       "      <td>-0.428816</td>\n",
       "      <td>-0.294351</td>\n",
       "      <td>0.955873</td>\n",
       "    </tr>\n",
       "  </tbody>\n",
       "</table>\n",
       "</div>"
      ],
      "text/plain": [
       "                   A         B         C         D\n",
       "2000-01-01 -1.263342  0.666581  0.484328 -0.631289\n",
       "2000-01-02 -0.210266  0.669452  0.496605  0.284778\n",
       "2000-01-03  0.274610 -0.428816 -0.294351  0.955873"
      ]
     },
     "execution_count": 75,
     "metadata": {},
     "output_type": "execute_result"
    }
   ],
   "source": [
    "df[:3]"
   ]
  },
  {
   "cell_type": "code",
   "execution_count": 76,
   "id": "formal-mexico",
   "metadata": {},
   "outputs": [
    {
     "data": {
      "text/html": [
       "<div>\n",
       "<style scoped>\n",
       "    .dataframe tbody tr th:only-of-type {\n",
       "        vertical-align: middle;\n",
       "    }\n",
       "\n",
       "    .dataframe tbody tr th {\n",
       "        vertical-align: top;\n",
       "    }\n",
       "\n",
       "    .dataframe thead th {\n",
       "        text-align: right;\n",
       "    }\n",
       "</style>\n",
       "<table border=\"1\" class=\"dataframe\">\n",
       "  <thead>\n",
       "    <tr style=\"text-align: right;\">\n",
       "      <th></th>\n",
       "      <th>A</th>\n",
       "      <th>B</th>\n",
       "      <th>C</th>\n",
       "      <th>D</th>\n",
       "    </tr>\n",
       "  </thead>\n",
       "  <tbody>\n",
       "    <tr>\n",
       "      <th>2000-01-08</th>\n",
       "      <td>-0.498317</td>\n",
       "      <td>-0.543711</td>\n",
       "      <td>-0.279709</td>\n",
       "      <td>0.931254</td>\n",
       "    </tr>\n",
       "    <tr>\n",
       "      <th>2000-01-07</th>\n",
       "      <td>-1.600893</td>\n",
       "      <td>1.655818</td>\n",
       "      <td>-0.480091</td>\n",
       "      <td>-0.374639</td>\n",
       "    </tr>\n",
       "    <tr>\n",
       "      <th>2000-01-06</th>\n",
       "      <td>0.035705</td>\n",
       "      <td>-0.560241</td>\n",
       "      <td>0.526400</td>\n",
       "      <td>-0.642750</td>\n",
       "    </tr>\n",
       "    <tr>\n",
       "      <th>2000-01-05</th>\n",
       "      <td>0.177414</td>\n",
       "      <td>-0.134870</td>\n",
       "      <td>-1.728240</td>\n",
       "      <td>0.551976</td>\n",
       "    </tr>\n",
       "    <tr>\n",
       "      <th>2000-01-04</th>\n",
       "      <td>-0.911566</td>\n",
       "      <td>1.020426</td>\n",
       "      <td>-2.228317</td>\n",
       "      <td>0.078700</td>\n",
       "    </tr>\n",
       "    <tr>\n",
       "      <th>2000-01-03</th>\n",
       "      <td>0.274610</td>\n",
       "      <td>-0.428816</td>\n",
       "      <td>-0.294351</td>\n",
       "      <td>0.955873</td>\n",
       "    </tr>\n",
       "    <tr>\n",
       "      <th>2000-01-02</th>\n",
       "      <td>-0.210266</td>\n",
       "      <td>0.669452</td>\n",
       "      <td>0.496605</td>\n",
       "      <td>0.284778</td>\n",
       "    </tr>\n",
       "    <tr>\n",
       "      <th>2000-01-01</th>\n",
       "      <td>-1.263342</td>\n",
       "      <td>0.666581</td>\n",
       "      <td>0.484328</td>\n",
       "      <td>-0.631289</td>\n",
       "    </tr>\n",
       "  </tbody>\n",
       "</table>\n",
       "</div>"
      ],
      "text/plain": [
       "                   A         B         C         D\n",
       "2000-01-08 -0.498317 -0.543711 -0.279709  0.931254\n",
       "2000-01-07 -1.600893  1.655818 -0.480091 -0.374639\n",
       "2000-01-06  0.035705 -0.560241  0.526400 -0.642750\n",
       "2000-01-05  0.177414 -0.134870 -1.728240  0.551976\n",
       "2000-01-04 -0.911566  1.020426 -2.228317  0.078700\n",
       "2000-01-03  0.274610 -0.428816 -0.294351  0.955873\n",
       "2000-01-02 -0.210266  0.669452  0.496605  0.284778\n",
       "2000-01-01 -1.263342  0.666581  0.484328 -0.631289"
      ]
     },
     "execution_count": 76,
     "metadata": {},
     "output_type": "execute_result"
    }
   ],
   "source": [
    "df[::-1]"
   ]
  },
  {
   "cell_type": "markdown",
   "id": "corporate-fleet",
   "metadata": {},
   "source": [
    "### Selection by label"
   ]
  },
  {
   "cell_type": "code",
   "execution_count": 77,
   "id": "third-crystal",
   "metadata": {},
   "outputs": [
    {
     "data": {
      "text/html": [
       "<div>\n",
       "<style scoped>\n",
       "    .dataframe tbody tr th:only-of-type {\n",
       "        vertical-align: middle;\n",
       "    }\n",
       "\n",
       "    .dataframe tbody tr th {\n",
       "        vertical-align: top;\n",
       "    }\n",
       "\n",
       "    .dataframe thead th {\n",
       "        text-align: right;\n",
       "    }\n",
       "</style>\n",
       "<table border=\"1\" class=\"dataframe\">\n",
       "  <thead>\n",
       "    <tr style=\"text-align: right;\">\n",
       "      <th></th>\n",
       "      <th>A</th>\n",
       "      <th>B</th>\n",
       "      <th>C</th>\n",
       "      <th>D</th>\n",
       "    </tr>\n",
       "  </thead>\n",
       "  <tbody>\n",
       "    <tr>\n",
       "      <th>2013-01-01</th>\n",
       "      <td>0.079711</td>\n",
       "      <td>1.168447</td>\n",
       "      <td>-0.358891</td>\n",
       "      <td>-0.148874</td>\n",
       "    </tr>\n",
       "    <tr>\n",
       "      <th>2013-01-02</th>\n",
       "      <td>-1.802740</td>\n",
       "      <td>-0.445357</td>\n",
       "      <td>-0.798650</td>\n",
       "      <td>-0.317377</td>\n",
       "    </tr>\n",
       "    <tr>\n",
       "      <th>2013-01-03</th>\n",
       "      <td>-0.757718</td>\n",
       "      <td>-0.606927</td>\n",
       "      <td>1.017408</td>\n",
       "      <td>0.200015</td>\n",
       "    </tr>\n",
       "    <tr>\n",
       "      <th>2013-01-04</th>\n",
       "      <td>0.284260</td>\n",
       "      <td>-1.126983</td>\n",
       "      <td>-0.361774</td>\n",
       "      <td>-0.002129</td>\n",
       "    </tr>\n",
       "    <tr>\n",
       "      <th>2013-01-05</th>\n",
       "      <td>-1.315812</td>\n",
       "      <td>-1.122901</td>\n",
       "      <td>0.200381</td>\n",
       "      <td>0.110441</td>\n",
       "    </tr>\n",
       "  </tbody>\n",
       "</table>\n",
       "</div>"
      ],
      "text/plain": [
       "                   A         B         C         D\n",
       "2013-01-01  0.079711  1.168447 -0.358891 -0.148874\n",
       "2013-01-02 -1.802740 -0.445357 -0.798650 -0.317377\n",
       "2013-01-03 -0.757718 -0.606927  1.017408  0.200015\n",
       "2013-01-04  0.284260 -1.126983 -0.361774 -0.002129\n",
       "2013-01-05 -1.315812 -1.122901  0.200381  0.110441"
      ]
     },
     "execution_count": 77,
     "metadata": {},
     "output_type": "execute_result"
    }
   ],
   "source": [
    "df = pd.DataFrame(np.random.randn(5, 4),\n",
    "   ....:                    columns=list('ABCD'),\n",
    "   ....:                    index=pd.date_range('20130101', periods=5))"
   ]
  },
  {
   "cell_type": "code",
   "execution_count": 79,
   "id": "remarkable-tucson",
   "metadata": {},
   "outputs": [
    {
     "data": {
      "text/html": [
       "<div>\n",
       "<style scoped>\n",
       "    .dataframe tbody tr th:only-of-type {\n",
       "        vertical-align: middle;\n",
       "    }\n",
       "\n",
       "    .dataframe tbody tr th {\n",
       "        vertical-align: top;\n",
       "    }\n",
       "\n",
       "    .dataframe thead th {\n",
       "        text-align: right;\n",
       "    }\n",
       "</style>\n",
       "<table border=\"1\" class=\"dataframe\">\n",
       "  <thead>\n",
       "    <tr style=\"text-align: right;\">\n",
       "      <th></th>\n",
       "      <th>A</th>\n",
       "      <th>B</th>\n",
       "      <th>C</th>\n",
       "      <th>D</th>\n",
       "    </tr>\n",
       "  </thead>\n",
       "  <tbody>\n",
       "    <tr>\n",
       "      <th>2013-01-02</th>\n",
       "      <td>-1.802740</td>\n",
       "      <td>-0.445357</td>\n",
       "      <td>-0.798650</td>\n",
       "      <td>-0.317377</td>\n",
       "    </tr>\n",
       "    <tr>\n",
       "      <th>2013-01-03</th>\n",
       "      <td>-0.757718</td>\n",
       "      <td>-0.606927</td>\n",
       "      <td>1.017408</td>\n",
       "      <td>0.200015</td>\n",
       "    </tr>\n",
       "    <tr>\n",
       "      <th>2013-01-04</th>\n",
       "      <td>0.284260</td>\n",
       "      <td>-1.126983</td>\n",
       "      <td>-0.361774</td>\n",
       "      <td>-0.002129</td>\n",
       "    </tr>\n",
       "  </tbody>\n",
       "</table>\n",
       "</div>"
      ],
      "text/plain": [
       "                   A         B         C         D\n",
       "2013-01-02 -1.802740 -0.445357 -0.798650 -0.317377\n",
       "2013-01-03 -0.757718 -0.606927  1.017408  0.200015\n",
       "2013-01-04  0.284260 -1.126983 -0.361774 -0.002129"
      ]
     },
     "execution_count": 79,
     "metadata": {},
     "output_type": "execute_result"
    }
   ],
   "source": [
    "dfl.loc['20130102':'20130104']"
   ]
  },
  {
   "cell_type": "code",
   "execution_count": 81,
   "id": "regular-dragon",
   "metadata": {},
   "outputs": [
    {
     "data": {
      "text/plain": [
       "a   -0.177791\n",
       "b   -0.076336\n",
       "c    0.391827\n",
       "d    2.848419\n",
       "e    0.613649\n",
       "f    0.998582\n",
       "dtype: float64"
      ]
     },
     "execution_count": 81,
     "metadata": {},
     "output_type": "execute_result"
    }
   ],
   "source": [
    "s1 = pd.Series(np.random.randn(6), index=list('abcdef'))\n",
    "s1"
   ]
  },
  {
   "cell_type": "code",
   "execution_count": 82,
   "id": "buried-sweet",
   "metadata": {},
   "outputs": [
    {
     "data": {
      "text/plain": [
       "c    0.391827\n",
       "d    2.848419\n",
       "e    0.613649\n",
       "f    0.998582\n",
       "dtype: float64"
      ]
     },
     "execution_count": 82,
     "metadata": {},
     "output_type": "execute_result"
    }
   ],
   "source": [
    "s1.loc['c':]"
   ]
  },
  {
   "cell_type": "code",
   "execution_count": 83,
   "id": "virgin-north",
   "metadata": {},
   "outputs": [
    {
     "data": {
      "text/plain": [
       "-0.07633625323768804"
      ]
     },
     "execution_count": 83,
     "metadata": {},
     "output_type": "execute_result"
    }
   ],
   "source": [
    "s1.loc['b']"
   ]
  },
  {
   "cell_type": "code",
   "execution_count": 85,
   "id": "finished-flash",
   "metadata": {},
   "outputs": [
    {
     "data": {
      "text/plain": [
       "a   -0.177791\n",
       "b   -0.076336\n",
       "c    0.000000\n",
       "d    0.000000\n",
       "e    0.000000\n",
       "f    0.000000\n",
       "dtype: float64"
      ]
     },
     "execution_count": 85,
     "metadata": {},
     "output_type": "execute_result"
    }
   ],
   "source": [
    "s1.loc['c':] = 0\n",
    "s1"
   ]
  },
  {
   "cell_type": "code",
   "execution_count": 87,
   "id": "given-partition",
   "metadata": {},
   "outputs": [
    {
     "data": {
      "text/html": [
       "<div>\n",
       "<style scoped>\n",
       "    .dataframe tbody tr th:only-of-type {\n",
       "        vertical-align: middle;\n",
       "    }\n",
       "\n",
       "    .dataframe tbody tr th {\n",
       "        vertical-align: top;\n",
       "    }\n",
       "\n",
       "    .dataframe thead th {\n",
       "        text-align: right;\n",
       "    }\n",
       "</style>\n",
       "<table border=\"1\" class=\"dataframe\">\n",
       "  <thead>\n",
       "    <tr style=\"text-align: right;\">\n",
       "      <th></th>\n",
       "      <th>A</th>\n",
       "      <th>B</th>\n",
       "      <th>C</th>\n",
       "      <th>D</th>\n",
       "    </tr>\n",
       "  </thead>\n",
       "  <tbody>\n",
       "    <tr>\n",
       "      <th>a</th>\n",
       "      <td>-2.759247</td>\n",
       "      <td>1.356175</td>\n",
       "      <td>-1.596958</td>\n",
       "      <td>2.716311</td>\n",
       "    </tr>\n",
       "    <tr>\n",
       "      <th>b</th>\n",
       "      <td>-0.844450</td>\n",
       "      <td>-0.760568</td>\n",
       "      <td>-0.008846</td>\n",
       "      <td>-0.978212</td>\n",
       "    </tr>\n",
       "    <tr>\n",
       "      <th>c</th>\n",
       "      <td>0.875598</td>\n",
       "      <td>0.692285</td>\n",
       "      <td>-0.766874</td>\n",
       "      <td>0.432695</td>\n",
       "    </tr>\n",
       "    <tr>\n",
       "      <th>d</th>\n",
       "      <td>1.938683</td>\n",
       "      <td>-1.614065</td>\n",
       "      <td>-0.404342</td>\n",
       "      <td>1.590187</td>\n",
       "    </tr>\n",
       "    <tr>\n",
       "      <th>e</th>\n",
       "      <td>1.099397</td>\n",
       "      <td>-1.049892</td>\n",
       "      <td>1.056034</td>\n",
       "      <td>0.018047</td>\n",
       "    </tr>\n",
       "    <tr>\n",
       "      <th>f</th>\n",
       "      <td>0.621995</td>\n",
       "      <td>-0.290165</td>\n",
       "      <td>-1.215836</td>\n",
       "      <td>-0.899609</td>\n",
       "    </tr>\n",
       "  </tbody>\n",
       "</table>\n",
       "</div>"
      ],
      "text/plain": [
       "          A         B         C         D\n",
       "a -2.759247  1.356175 -1.596958  2.716311\n",
       "b -0.844450 -0.760568 -0.008846 -0.978212\n",
       "c  0.875598  0.692285 -0.766874  0.432695\n",
       "d  1.938683 -1.614065 -0.404342  1.590187\n",
       "e  1.099397 -1.049892  1.056034  0.018047\n",
       "f  0.621995 -0.290165 -1.215836 -0.899609"
      ]
     },
     "execution_count": 87,
     "metadata": {},
     "output_type": "execute_result"
    }
   ],
   "source": [
    "df1 = pd.DataFrame(np.random.randn(6, 4),\n",
    "   ....:                    index=list('abcdef'),\n",
    "   ....:                    columns=list('ABCD'))\n",
    "df1"
   ]
  },
  {
   "cell_type": "code",
   "execution_count": 88,
   "id": "talented-columbus",
   "metadata": {},
   "outputs": [
    {
     "data": {
      "text/html": [
       "<div>\n",
       "<style scoped>\n",
       "    .dataframe tbody tr th:only-of-type {\n",
       "        vertical-align: middle;\n",
       "    }\n",
       "\n",
       "    .dataframe tbody tr th {\n",
       "        vertical-align: top;\n",
       "    }\n",
       "\n",
       "    .dataframe thead th {\n",
       "        text-align: right;\n",
       "    }\n",
       "</style>\n",
       "<table border=\"1\" class=\"dataframe\">\n",
       "  <thead>\n",
       "    <tr style=\"text-align: right;\">\n",
       "      <th></th>\n",
       "      <th>A</th>\n",
       "      <th>B</th>\n",
       "      <th>C</th>\n",
       "      <th>D</th>\n",
       "    </tr>\n",
       "  </thead>\n",
       "  <tbody>\n",
       "    <tr>\n",
       "      <th>a</th>\n",
       "      <td>-2.759247</td>\n",
       "      <td>1.356175</td>\n",
       "      <td>-1.596958</td>\n",
       "      <td>2.716311</td>\n",
       "    </tr>\n",
       "    <tr>\n",
       "      <th>b</th>\n",
       "      <td>-0.844450</td>\n",
       "      <td>-0.760568</td>\n",
       "      <td>-0.008846</td>\n",
       "      <td>-0.978212</td>\n",
       "    </tr>\n",
       "    <tr>\n",
       "      <th>d</th>\n",
       "      <td>1.938683</td>\n",
       "      <td>-1.614065</td>\n",
       "      <td>-0.404342</td>\n",
       "      <td>1.590187</td>\n",
       "    </tr>\n",
       "  </tbody>\n",
       "</table>\n",
       "</div>"
      ],
      "text/plain": [
       "          A         B         C         D\n",
       "a -2.759247  1.356175 -1.596958  2.716311\n",
       "b -0.844450 -0.760568 -0.008846 -0.978212\n",
       "d  1.938683 -1.614065 -0.404342  1.590187"
      ]
     },
     "execution_count": 88,
     "metadata": {},
     "output_type": "execute_result"
    }
   ],
   "source": [
    "df1.loc[['a', 'b', 'd'], :]"
   ]
  },
  {
   "cell_type": "code",
   "execution_count": 89,
   "id": "collected-armor",
   "metadata": {},
   "outputs": [
    {
     "data": {
      "text/html": [
       "<div>\n",
       "<style scoped>\n",
       "    .dataframe tbody tr th:only-of-type {\n",
       "        vertical-align: middle;\n",
       "    }\n",
       "\n",
       "    .dataframe tbody tr th {\n",
       "        vertical-align: top;\n",
       "    }\n",
       "\n",
       "    .dataframe thead th {\n",
       "        text-align: right;\n",
       "    }\n",
       "</style>\n",
       "<table border=\"1\" class=\"dataframe\">\n",
       "  <thead>\n",
       "    <tr style=\"text-align: right;\">\n",
       "      <th></th>\n",
       "      <th>A</th>\n",
       "      <th>B</th>\n",
       "      <th>C</th>\n",
       "    </tr>\n",
       "  </thead>\n",
       "  <tbody>\n",
       "    <tr>\n",
       "      <th>d</th>\n",
       "      <td>1.938683</td>\n",
       "      <td>-1.614065</td>\n",
       "      <td>-0.404342</td>\n",
       "    </tr>\n",
       "    <tr>\n",
       "      <th>e</th>\n",
       "      <td>1.099397</td>\n",
       "      <td>-1.049892</td>\n",
       "      <td>1.056034</td>\n",
       "    </tr>\n",
       "    <tr>\n",
       "      <th>f</th>\n",
       "      <td>0.621995</td>\n",
       "      <td>-0.290165</td>\n",
       "      <td>-1.215836</td>\n",
       "    </tr>\n",
       "  </tbody>\n",
       "</table>\n",
       "</div>"
      ],
      "text/plain": [
       "          A         B         C\n",
       "d  1.938683 -1.614065 -0.404342\n",
       "e  1.099397 -1.049892  1.056034\n",
       "f  0.621995 -0.290165 -1.215836"
      ]
     },
     "execution_count": 89,
     "metadata": {},
     "output_type": "execute_result"
    }
   ],
   "source": [
    "df1.loc['d':, 'A':'C']"
   ]
  },
  {
   "cell_type": "code",
   "execution_count": 90,
   "id": "auburn-harvard",
   "metadata": {},
   "outputs": [
    {
     "data": {
      "text/plain": [
       "A   -2.759247\n",
       "B    1.356175\n",
       "C   -1.596958\n",
       "D    2.716311\n",
       "Name: a, dtype: float64"
      ]
     },
     "execution_count": 90,
     "metadata": {},
     "output_type": "execute_result"
    }
   ],
   "source": [
    "df1.loc['a']"
   ]
  },
  {
   "cell_type": "code",
   "execution_count": 91,
   "id": "collected-reviewer",
   "metadata": {},
   "outputs": [
    {
     "data": {
      "text/plain": [
       "A    False\n",
       "B     True\n",
       "C    False\n",
       "D     True\n",
       "Name: a, dtype: bool"
      ]
     },
     "execution_count": 91,
     "metadata": {},
     "output_type": "execute_result"
    }
   ],
   "source": [
    "df1.loc['a'] > 0"
   ]
  },
  {
   "cell_type": "code",
   "execution_count": 92,
   "id": "rapid-actor",
   "metadata": {},
   "outputs": [
    {
     "data": {
      "text/html": [
       "<div>\n",
       "<style scoped>\n",
       "    .dataframe tbody tr th:only-of-type {\n",
       "        vertical-align: middle;\n",
       "    }\n",
       "\n",
       "    .dataframe tbody tr th {\n",
       "        vertical-align: top;\n",
       "    }\n",
       "\n",
       "    .dataframe thead th {\n",
       "        text-align: right;\n",
       "    }\n",
       "</style>\n",
       "<table border=\"1\" class=\"dataframe\">\n",
       "  <thead>\n",
       "    <tr style=\"text-align: right;\">\n",
       "      <th></th>\n",
       "      <th>B</th>\n",
       "      <th>D</th>\n",
       "    </tr>\n",
       "  </thead>\n",
       "  <tbody>\n",
       "    <tr>\n",
       "      <th>a</th>\n",
       "      <td>1.356175</td>\n",
       "      <td>2.716311</td>\n",
       "    </tr>\n",
       "    <tr>\n",
       "      <th>b</th>\n",
       "      <td>-0.760568</td>\n",
       "      <td>-0.978212</td>\n",
       "    </tr>\n",
       "    <tr>\n",
       "      <th>c</th>\n",
       "      <td>0.692285</td>\n",
       "      <td>0.432695</td>\n",
       "    </tr>\n",
       "    <tr>\n",
       "      <th>d</th>\n",
       "      <td>-1.614065</td>\n",
       "      <td>1.590187</td>\n",
       "    </tr>\n",
       "    <tr>\n",
       "      <th>e</th>\n",
       "      <td>-1.049892</td>\n",
       "      <td>0.018047</td>\n",
       "    </tr>\n",
       "    <tr>\n",
       "      <th>f</th>\n",
       "      <td>-0.290165</td>\n",
       "      <td>-0.899609</td>\n",
       "    </tr>\n",
       "  </tbody>\n",
       "</table>\n",
       "</div>"
      ],
      "text/plain": [
       "          B         D\n",
       "a  1.356175  2.716311\n",
       "b -0.760568 -0.978212\n",
       "c  0.692285  0.432695\n",
       "d -1.614065  1.590187\n",
       "e -1.049892  0.018047\n",
       "f -0.290165 -0.899609"
      ]
     },
     "execution_count": 92,
     "metadata": {},
     "output_type": "execute_result"
    }
   ],
   "source": [
    "df1.loc[:,df1.loc['a'] > 0]"
   ]
  },
  {
   "cell_type": "code",
   "execution_count": 94,
   "id": "buried-concrete",
   "metadata": {},
   "outputs": [
    {
     "data": {
      "text/plain": [
       "<BooleanArray>\n",
       "[True, False, True, False, <NA>, False]\n",
       "Length: 6, dtype: boolean"
      ]
     },
     "execution_count": 94,
     "metadata": {},
     "output_type": "execute_result"
    }
   ],
   "source": [
    "mask = pd.array([True, False, True, False, pd.NA, False], dtype=\"boolean\")\n",
    "mask"
   ]
  },
  {
   "cell_type": "code",
   "execution_count": 95,
   "id": "injured-challenge",
   "metadata": {},
   "outputs": [
    {
     "data": {
      "text/html": [
       "<div>\n",
       "<style scoped>\n",
       "    .dataframe tbody tr th:only-of-type {\n",
       "        vertical-align: middle;\n",
       "    }\n",
       "\n",
       "    .dataframe tbody tr th {\n",
       "        vertical-align: top;\n",
       "    }\n",
       "\n",
       "    .dataframe thead th {\n",
       "        text-align: right;\n",
       "    }\n",
       "</style>\n",
       "<table border=\"1\" class=\"dataframe\">\n",
       "  <thead>\n",
       "    <tr style=\"text-align: right;\">\n",
       "      <th></th>\n",
       "      <th>A</th>\n",
       "      <th>B</th>\n",
       "      <th>C</th>\n",
       "      <th>D</th>\n",
       "    </tr>\n",
       "  </thead>\n",
       "  <tbody>\n",
       "    <tr>\n",
       "      <th>a</th>\n",
       "      <td>-2.759247</td>\n",
       "      <td>1.356175</td>\n",
       "      <td>-1.596958</td>\n",
       "      <td>2.716311</td>\n",
       "    </tr>\n",
       "    <tr>\n",
       "      <th>c</th>\n",
       "      <td>0.875598</td>\n",
       "      <td>0.692285</td>\n",
       "      <td>-0.766874</td>\n",
       "      <td>0.432695</td>\n",
       "    </tr>\n",
       "  </tbody>\n",
       "</table>\n",
       "</div>"
      ],
      "text/plain": [
       "          A         B         C         D\n",
       "a -2.759247  1.356175 -1.596958  2.716311\n",
       "c  0.875598  0.692285 -0.766874  0.432695"
      ]
     },
     "execution_count": 95,
     "metadata": {},
     "output_type": "execute_result"
    }
   ],
   "source": [
    "df1[mask]"
   ]
  },
  {
   "cell_type": "code",
   "execution_count": 96,
   "id": "built-coordinate",
   "metadata": {},
   "outputs": [
    {
     "data": {
      "text/plain": [
       "-2.759246655320073"
      ]
     },
     "execution_count": 96,
     "metadata": {},
     "output_type": "execute_result"
    }
   ],
   "source": [
    "df1.loc['a', 'A']"
   ]
  },
  {
   "cell_type": "code",
   "execution_count": 97,
   "id": "ignored-kitchen",
   "metadata": {},
   "outputs": [
    {
     "data": {
      "text/plain": [
       "-2.759246655320073"
      ]
     },
     "execution_count": 97,
     "metadata": {},
     "output_type": "execute_result"
    }
   ],
   "source": [
    "df1.at['a','A']"
   ]
  },
  {
   "cell_type": "markdown",
   "id": "afraid-geology",
   "metadata": {},
   "source": [
    "### Slicing with labels "
   ]
  },
  {
   "cell_type": "code",
   "execution_count": 98,
   "id": "secure-preserve",
   "metadata": {},
   "outputs": [
    {
     "data": {
      "text/plain": [
       "0    a\n",
       "3    b\n",
       "2    c\n",
       "5    d\n",
       "4    e\n",
       "dtype: object"
      ]
     },
     "execution_count": 98,
     "metadata": {},
     "output_type": "execute_result"
    }
   ],
   "source": [
    "s = pd.Series(list('abcde'), index=[0, 3, 2, 5, 4])\n",
    "s"
   ]
  },
  {
   "cell_type": "code",
   "execution_count": 102,
   "id": "secondary-branch",
   "metadata": {},
   "outputs": [
    {
     "data": {
      "text/plain": [
       "3    b\n",
       "2    c\n",
       "5    d\n",
       "dtype: object"
      ]
     },
     "execution_count": 102,
     "metadata": {},
     "output_type": "execute_result"
    }
   ],
   "source": [
    "s.loc[3:5]"
   ]
  },
  {
   "cell_type": "code",
   "execution_count": 103,
   "id": "cultural-malta",
   "metadata": {},
   "outputs": [
    {
     "data": {
      "text/plain": [
       "0    a\n",
       "2    c\n",
       "3    b\n",
       "4    e\n",
       "5    d\n",
       "dtype: object"
      ]
     },
     "execution_count": 103,
     "metadata": {},
     "output_type": "execute_result"
    }
   ],
   "source": [
    "s.sort_index()"
   ]
  },
  {
   "cell_type": "code",
   "execution_count": 104,
   "id": "swedish-validity",
   "metadata": {},
   "outputs": [
    {
     "data": {
      "text/plain": [
       "2    c\n",
       "3    b\n",
       "4    e\n",
       "5    d\n",
       "dtype: object"
      ]
     },
     "execution_count": 104,
     "metadata": {},
     "output_type": "execute_result"
    }
   ],
   "source": [
    "s.sort_index().loc[1:6]"
   ]
  },
  {
   "cell_type": "code",
   "execution_count": 105,
   "id": "addressed-jackson",
   "metadata": {},
   "outputs": [
    {
     "data": {
      "text/plain": [
       "0    a\n",
       "3    b\n",
       "2    c\n",
       "5    d\n",
       "4    e\n",
       "2    f\n",
       "dtype: object"
      ]
     },
     "execution_count": 105,
     "metadata": {},
     "output_type": "execute_result"
    }
   ],
   "source": [
    "s = pd.Series(list('abcdef'), index=[0, 3, 2, 5, 4, 2])\n",
    "s"
   ]
  },
  {
   "cell_type": "code",
   "execution_count": 106,
   "id": "wireless-direction",
   "metadata": {},
   "outputs": [
    {
     "data": {
      "text/plain": [
       "3    b\n",
       "2    c\n",
       "5    d\n",
       "dtype: object"
      ]
     },
     "execution_count": 106,
     "metadata": {},
     "output_type": "execute_result"
    }
   ],
   "source": [
    "s.loc[3:5]"
   ]
  },
  {
   "cell_type": "markdown",
   "id": "adjusted-pursuit",
   "metadata": {},
   "source": [
    "### Selection by position"
   ]
  },
  {
   "cell_type": "code",
   "execution_count": null,
   "id": "controlling-anchor",
   "metadata": {},
   "outputs": [],
   "source": []
  }
 ],
 "metadata": {
  "kernelspec": {
   "display_name": "Python 3",
   "language": "python",
   "name": "python3"
  },
  "language_info": {
   "codemirror_mode": {
    "name": "ipython",
    "version": 3
   },
   "file_extension": ".py",
   "mimetype": "text/x-python",
   "name": "python",
   "nbconvert_exporter": "python",
   "pygments_lexer": "ipython3",
   "version": "3.7.9"
  }
 },
 "nbformat": 4,
 "nbformat_minor": 5
}
